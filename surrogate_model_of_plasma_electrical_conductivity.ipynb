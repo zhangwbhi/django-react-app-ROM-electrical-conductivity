{
 "cells": [
  {
   "cell_type": "markdown",
   "metadata": {},
   "source": [
    "# Setup\n"
   ]
  },
  {
   "cell_type": "code",
   "execution_count": 37,
   "metadata": {},
   "outputs": [],
   "source": [
    "# Python ≥3.5 is required\n",
    "import sys\n",
    "assert sys.version_info >= (3, 5)\n",
    "\n",
    "# Scikit-Learn ≥0.20 is required\n",
    "import sklearn\n",
    "assert sklearn.__version__ >= \"0.20\"\n",
    "\n",
    "# Common imports\n",
    "import numpy as np\n",
    "import os\n",
    "\n",
    "# To plot pretty figures\n",
    "%matplotlib inline\n",
    "import matplotlib as mpl\n",
    "import matplotlib.pyplot as plt\n",
    "mpl.rc('axes', labelsize=14)\n",
    "mpl.rc('xtick', labelsize=12)\n",
    "mpl.rc('ytick', labelsize=12)\n",
    "\n",
    "# Where to save the figures\n",
    "PROJECT_ROOT_DIR = \".\"\n",
    "IMAGES_PATH = os.path.join(PROJECT_ROOT_DIR, \"images\")\n",
    "os.makedirs(IMAGES_PATH, exist_ok=True)\n",
    "\n",
    "def save_fig(fig_id, tight_layout=True, fig_extension=\"png\", resolution=300):\n",
    "    path = os.path.join(IMAGES_PATH, fig_id + \".\" + fig_extension)\n",
    "    print(\"Saving figure\", fig_id)\n",
    "    if tight_layout:\n",
    "        plt.tight_layout()\n",
    "    plt.savefig(path, format=fig_extension, dpi=resolution)"
   ]
  },
  {
   "cell_type": "markdown",
   "metadata": {},
   "source": [
    "# Load the Data"
   ]
  },
  {
   "cell_type": "code",
   "execution_count": 38,
   "metadata": {},
   "outputs": [],
   "source": [
    "import pandas as pd\n",
    "DATA_PATH = os.path.join(PROJECT_ROOT_DIR, \"data\")\n",
    "def load_data(path=DATA_PATH):\n",
    "    csv_path = os.path.join(path, \"econd_data.csv\")\n",
    "    return pd.read_csv(csv_path)"
   ]
  },
  {
   "cell_type": "code",
   "execution_count": 39,
   "metadata": {},
   "outputs": [],
   "source": [
    "raw_data = load_data()"
   ]
  },
  {
   "cell_type": "markdown",
   "metadata": {},
   "source": [
    "## Take a Quick Look at the Data Structure"
   ]
  },
  {
   "cell_type": "code",
   "execution_count": 40,
   "metadata": {},
   "outputs": [
    {
     "data": {
      "text/html": [
       "<div>\n",
       "<style scoped>\n",
       "    .dataframe tbody tr th:only-of-type {\n",
       "        vertical-align: middle;\n",
       "    }\n",
       "\n",
       "    .dataframe tbody tr th {\n",
       "        vertical-align: top;\n",
       "    }\n",
       "\n",
       "    .dataframe thead th {\n",
       "        text-align: right;\n",
       "    }\n",
       "</style>\n",
       "<table border=\"1\" class=\"dataframe\">\n",
       "  <thead>\n",
       "    <tr style=\"text-align: right;\">\n",
       "      <th></th>\n",
       "      <th>EN</th>\n",
       "      <th>N2</th>\n",
       "      <th>O2</th>\n",
       "      <th>N</th>\n",
       "      <th>O</th>\n",
       "      <th>NO</th>\n",
       "      <th>ION</th>\n",
       "      <th>ECOND</th>\n",
       "    </tr>\n",
       "  </thead>\n",
       "  <tbody>\n",
       "    <tr>\n",
       "      <th>0</th>\n",
       "      <td>0.0</td>\n",
       "      <td>0.003744</td>\n",
       "      <td>0.000438</td>\n",
       "      <td>0.509281</td>\n",
       "      <td>0.388374</td>\n",
       "      <td>0.097923</td>\n",
       "      <td>0.000240</td>\n",
       "      <td>9.028228</td>\n",
       "    </tr>\n",
       "    <tr>\n",
       "      <th>1</th>\n",
       "      <td>0.0</td>\n",
       "      <td>0.007702</td>\n",
       "      <td>0.007778</td>\n",
       "      <td>0.500921</td>\n",
       "      <td>0.385850</td>\n",
       "      <td>0.097244</td>\n",
       "      <td>0.000505</td>\n",
       "      <td>9.049518</td>\n",
       "    </tr>\n",
       "    <tr>\n",
       "      <th>2</th>\n",
       "      <td>0.0</td>\n",
       "      <td>0.045885</td>\n",
       "      <td>0.023827</td>\n",
       "      <td>0.496921</td>\n",
       "      <td>0.346406</td>\n",
       "      <td>0.086013</td>\n",
       "      <td>0.000948</td>\n",
       "      <td>9.054821</td>\n",
       "    </tr>\n",
       "    <tr>\n",
       "      <th>3</th>\n",
       "      <td>0.0</td>\n",
       "      <td>0.055009</td>\n",
       "      <td>0.019576</td>\n",
       "      <td>0.500709</td>\n",
       "      <td>0.331736</td>\n",
       "      <td>0.092946</td>\n",
       "      <td>0.000024</td>\n",
       "      <td>8.585092</td>\n",
       "    </tr>\n",
       "    <tr>\n",
       "      <th>4</th>\n",
       "      <td>0.0</td>\n",
       "      <td>0.001590</td>\n",
       "      <td>0.009277</td>\n",
       "      <td>0.591927</td>\n",
       "      <td>0.362126</td>\n",
       "      <td>0.034547</td>\n",
       "      <td>0.000533</td>\n",
       "      <td>9.050017</td>\n",
       "    </tr>\n",
       "  </tbody>\n",
       "</table>\n",
       "</div>"
      ],
      "text/plain": [
       "    EN        N2        O2         N         O        NO       ION     ECOND\n",
       "0  0.0  0.003744  0.000438  0.509281  0.388374  0.097923  0.000240  9.028228\n",
       "1  0.0  0.007702  0.007778  0.500921  0.385850  0.097244  0.000505  9.049518\n",
       "2  0.0  0.045885  0.023827  0.496921  0.346406  0.086013  0.000948  9.054821\n",
       "3  0.0  0.055009  0.019576  0.500709  0.331736  0.092946  0.000024  8.585092\n",
       "4  0.0  0.001590  0.009277  0.591927  0.362126  0.034547  0.000533  9.050017"
      ]
     },
     "execution_count": 40,
     "metadata": {},
     "output_type": "execute_result"
    }
   ],
   "source": [
    "raw_data.head()"
   ]
  },
  {
   "cell_type": "code",
   "execution_count": 41,
   "metadata": {},
   "outputs": [
    {
     "name": "stdout",
     "output_type": "stream",
     "text": [
      "<class 'pandas.core.frame.DataFrame'>\n",
      "RangeIndex: 165000 entries, 0 to 164999\n",
      "Data columns (total 8 columns):\n",
      " #   Column  Non-Null Count   Dtype  \n",
      "---  ------  --------------   -----  \n",
      " 0   EN      165000 non-null  float64\n",
      " 1   N2      165000 non-null  float64\n",
      " 2   O2      165000 non-null  float64\n",
      " 3   N       165000 non-null  float64\n",
      " 4   O       165000 non-null  float64\n",
      " 5   NO      165000 non-null  float64\n",
      " 6   ION     165000 non-null  float64\n",
      " 7   ECOND   165000 non-null  float64\n",
      "dtypes: float64(8)\n",
      "memory usage: 10.1 MB\n"
     ]
    }
   ],
   "source": [
    "raw_data.info()"
   ]
  },
  {
   "cell_type": "code",
   "execution_count": 42,
   "metadata": {},
   "outputs": [
    {
     "data": {
      "text/html": [
       "<div>\n",
       "<style scoped>\n",
       "    .dataframe tbody tr th:only-of-type {\n",
       "        vertical-align: middle;\n",
       "    }\n",
       "\n",
       "    .dataframe tbody tr th {\n",
       "        vertical-align: top;\n",
       "    }\n",
       "\n",
       "    .dataframe thead th {\n",
       "        text-align: right;\n",
       "    }\n",
       "</style>\n",
       "<table border=\"1\" class=\"dataframe\">\n",
       "  <thead>\n",
       "    <tr style=\"text-align: right;\">\n",
       "      <th></th>\n",
       "      <th>EN</th>\n",
       "      <th>N2</th>\n",
       "      <th>O2</th>\n",
       "      <th>N</th>\n",
       "      <th>O</th>\n",
       "      <th>NO</th>\n",
       "      <th>ION</th>\n",
       "      <th>ECOND</th>\n",
       "    </tr>\n",
       "  </thead>\n",
       "  <tbody>\n",
       "    <tr>\n",
       "      <th>count</th>\n",
       "      <td>165000.000000</td>\n",
       "      <td>165000.000000</td>\n",
       "      <td>165000.000000</td>\n",
       "      <td>1.650000e+05</td>\n",
       "      <td>1.650000e+05</td>\n",
       "      <td>1.650000e+05</td>\n",
       "      <td>1.650000e+05</td>\n",
       "      <td>165000.000000</td>\n",
       "    </tr>\n",
       "    <tr>\n",
       "      <th>mean</th>\n",
       "      <td>0.500000</td>\n",
       "      <td>0.484456</td>\n",
       "      <td>0.123141</td>\n",
       "      <td>2.231664e-01</td>\n",
       "      <td>1.279125e-01</td>\n",
       "      <td>4.098457e-02</td>\n",
       "      <td>3.397098e-04</td>\n",
       "      <td>39.522164</td>\n",
       "    </tr>\n",
       "    <tr>\n",
       "      <th>std</th>\n",
       "      <td>0.316229</td>\n",
       "      <td>0.265370</td>\n",
       "      <td>0.060899</td>\n",
       "      <td>2.237550e-01</td>\n",
       "      <td>1.210158e-01</td>\n",
       "      <td>2.804313e-02</td>\n",
       "      <td>3.236067e-04</td>\n",
       "      <td>57.160202</td>\n",
       "    </tr>\n",
       "    <tr>\n",
       "      <th>min</th>\n",
       "      <td>0.000000</td>\n",
       "      <td>0.000032</td>\n",
       "      <td>0.000030</td>\n",
       "      <td>4.309145e-07</td>\n",
       "      <td>5.995916e-07</td>\n",
       "      <td>6.979426e-08</td>\n",
       "      <td>4.308682e-09</td>\n",
       "      <td>0.000818</td>\n",
       "    </tr>\n",
       "    <tr>\n",
       "      <th>25%</th>\n",
       "      <td>0.200000</td>\n",
       "      <td>0.240109</td>\n",
       "      <td>0.070128</td>\n",
       "      <td>2.365274e-02</td>\n",
       "      <td>2.008328e-02</td>\n",
       "      <td>1.702300e-02</td>\n",
       "      <td>3.343060e-05</td>\n",
       "      <td>9.020605</td>\n",
       "    </tr>\n",
       "    <tr>\n",
       "      <th>50%</th>\n",
       "      <td>0.500000</td>\n",
       "      <td>0.515109</td>\n",
       "      <td>0.150596</td>\n",
       "      <td>1.434686e-01</td>\n",
       "      <td>7.909982e-02</td>\n",
       "      <td>3.608894e-02</td>\n",
       "      <td>2.526130e-04</td>\n",
       "      <td>9.319390</td>\n",
       "    </tr>\n",
       "    <tr>\n",
       "      <th>75%</th>\n",
       "      <td>0.800000</td>\n",
       "      <td>0.756253</td>\n",
       "      <td>0.169331</td>\n",
       "      <td>3.927697e-01</td>\n",
       "      <td>2.278282e-01</td>\n",
       "      <td>6.351238e-02</td>\n",
       "      <td>6.198069e-04</td>\n",
       "      <td>40.902577</td>\n",
       "    </tr>\n",
       "    <tr>\n",
       "      <th>max</th>\n",
       "      <td>1.000000</td>\n",
       "      <td>0.799999</td>\n",
       "      <td>0.219973</td>\n",
       "      <td>7.996490e-01</td>\n",
       "      <td>3.998482e-01</td>\n",
       "      <td>9.999711e-02</td>\n",
       "      <td>9.999920e-04</td>\n",
       "      <td>338.795582</td>\n",
       "    </tr>\n",
       "  </tbody>\n",
       "</table>\n",
       "</div>"
      ],
      "text/plain": [
       "                  EN             N2             O2             N  \\\n",
       "count  165000.000000  165000.000000  165000.000000  1.650000e+05   \n",
       "mean        0.500000       0.484456       0.123141  2.231664e-01   \n",
       "std         0.316229       0.265370       0.060899  2.237550e-01   \n",
       "min         0.000000       0.000032       0.000030  4.309145e-07   \n",
       "25%         0.200000       0.240109       0.070128  2.365274e-02   \n",
       "50%         0.500000       0.515109       0.150596  1.434686e-01   \n",
       "75%         0.800000       0.756253       0.169331  3.927697e-01   \n",
       "max         1.000000       0.799999       0.219973  7.996490e-01   \n",
       "\n",
       "                  O            NO           ION          ECOND  \n",
       "count  1.650000e+05  1.650000e+05  1.650000e+05  165000.000000  \n",
       "mean   1.279125e-01  4.098457e-02  3.397098e-04      39.522164  \n",
       "std    1.210158e-01  2.804313e-02  3.236067e-04      57.160202  \n",
       "min    5.995916e-07  6.979426e-08  4.308682e-09       0.000818  \n",
       "25%    2.008328e-02  1.702300e-02  3.343060e-05       9.020605  \n",
       "50%    7.909982e-02  3.608894e-02  2.526130e-04       9.319390  \n",
       "75%    2.278282e-01  6.351238e-02  6.198069e-04      40.902577  \n",
       "max    3.998482e-01  9.999711e-02  9.999920e-04     338.795582  "
      ]
     },
     "execution_count": 42,
     "metadata": {},
     "output_type": "execute_result"
    }
   ],
   "source": [
    "raw_data.describe()"
   ]
  },
  {
   "cell_type": "code",
   "execution_count": 43,
   "metadata": {},
   "outputs": [
    {
     "name": "stdout",
     "output_type": "stream",
     "text": [
      "Saving figure attribute_histogram_plots\n"
     ]
    },
    {
     "data": {
      "image/png": "[encoded data removed]",
      "text/plain": [
       "<Figure size 1440x1080 with 9 Axes>"
      ]
     },
     "metadata": {
      "needs_background": "light"
     },
     "output_type": "display_data"
    }
   ],
   "source": [
    "%matplotlib inline\n",
    "import matplotlib.pyplot as plt\n",
    "raw_data.hist(bins=50, figsize=(20,15))\n",
    "save_fig(\"attribute_histogram_plots\")\n",
    "plt.show()"
   ]
  },
  {
   "cell_type": "markdown",
   "metadata": {},
   "source": [
    "### transform electric conductivity to log($\\alpha$/$\\sigma$) where $\\alpha$ is the electric conductivity and $\\sigma$ is the ionization degree\n",
    "### this reserves the positivetivity"
   ]
  },
  {
   "cell_type": "code",
   "execution_count": 44,
   "metadata": {},
   "outputs": [],
   "source": [
    "data = raw_data.copy()\n",
    "data['ECOND'] = np.log(raw_data['ION']/raw_data['ECOND'])"
   ]
  },
  {
   "cell_type": "markdown",
   "metadata": {},
   "source": [
    "## Create a Test Set"
   ]
  },
  {
   "cell_type": "code",
   "execution_count": 45,
   "metadata": {},
   "outputs": [],
   "source": [
    "from sklearn.model_selection import train_test_split\n",
    "\n",
    "train_set, test_set = train_test_split(data, test_size=0.2, random_state=42)"
   ]
  },
  {
   "cell_type": "markdown",
   "metadata": {},
   "source": [
    "## Looking for Correlations"
   ]
  },
  {
   "cell_type": "code",
   "execution_count": 46,
   "metadata": {},
   "outputs": [],
   "source": [
    "data_exploration = train_set.copy()"
   ]
  },
  {
   "cell_type": "code",
   "execution_count": 47,
   "metadata": {},
   "outputs": [],
   "source": [
    "corr_matrix = data_exploration.corr()"
   ]
  },
  {
   "cell_type": "code",
   "execution_count": 48,
   "metadata": {},
   "outputs": [
    {
     "data": {
      "text/plain": [
       "ECOND    1.000000\n",
       "ION      0.686180\n",
       "O        0.367684\n",
       "N        0.366814\n",
       "NO       0.224043\n",
       "O2      -0.294099\n",
       "EN      -0.371582\n",
       "N2      -0.434006\n",
       "Name: ECOND, dtype: float64"
      ]
     },
     "execution_count": 48,
     "metadata": {},
     "output_type": "execute_result"
    }
   ],
   "source": [
    "corr_matrix[\"ECOND\"].sort_values(ascending=False)"
   ]
  },
  {
   "cell_type": "code",
   "execution_count": 49,
   "metadata": {},
   "outputs": [
    {
     "name": "stdout",
     "output_type": "stream",
     "text": [
      "Saving figure scatter_matrix_plot\n"
     ]
    },
    {
     "data": {
      "image/png": "[encoded data removed]",
      "text/plain": [
       "<Figure size 864x576 with 16 Axes>"
      ]
     },
     "metadata": {
      "needs_background": "light"
     },
     "output_type": "display_data"
    }
   ],
   "source": [
    "# from pandas.tools.plotting import scatter_matrix # For older versions of Pandas\n",
    "from pandas.plotting import scatter_matrix\n",
    "\n",
    "attributes = [\"ECOND\", \"ION\", \"O\", \"N\"]\n",
    "scatter_matrix(data_exploration[attributes], figsize=(12, 8))\n",
    "save_fig(\"scatter_matrix_plot\")"
   ]
  },
  {
   "cell_type": "code",
   "execution_count": 50,
   "metadata": {},
   "outputs": [
    {
     "data": {
      "text/html": [
       "<div>\n",
       "<style scoped>\n",
       "    .dataframe tbody tr th:only-of-type {\n",
       "        vertical-align: middle;\n",
       "    }\n",
       "\n",
       "    .dataframe tbody tr th {\n",
       "        vertical-align: top;\n",
       "    }\n",
       "\n",
       "    .dataframe thead th {\n",
       "        text-align: right;\n",
       "    }\n",
       "</style>\n",
       "<table border=\"1\" class=\"dataframe\">\n",
       "  <thead>\n",
       "    <tr style=\"text-align: right;\">\n",
       "      <th></th>\n",
       "      <th>EN</th>\n",
       "      <th>N2</th>\n",
       "      <th>O2</th>\n",
       "      <th>N</th>\n",
       "      <th>O</th>\n",
       "      <th>NO</th>\n",
       "      <th>ION</th>\n",
       "      <th>ECOND</th>\n",
       "    </tr>\n",
       "  </thead>\n",
       "  <tbody>\n",
       "    <tr>\n",
       "      <th>count</th>\n",
       "      <td>132000.000000</td>\n",
       "      <td>132000.000000</td>\n",
       "      <td>132000.000000</td>\n",
       "      <td>1.320000e+05</td>\n",
       "      <td>1.320000e+05</td>\n",
       "      <td>1.320000e+05</td>\n",
       "      <td>1.320000e+05</td>\n",
       "      <td>132000.000000</td>\n",
       "    </tr>\n",
       "    <tr>\n",
       "      <th>mean</th>\n",
       "      <td>0.499530</td>\n",
       "      <td>0.484425</td>\n",
       "      <td>0.123095</td>\n",
       "      <td>2.231315e-01</td>\n",
       "      <td>1.279743e-01</td>\n",
       "      <td>4.103407e-02</td>\n",
       "      <td>3.400536e-04</td>\n",
       "      <td>-11.712777</td>\n",
       "    </tr>\n",
       "    <tr>\n",
       "      <th>std</th>\n",
       "      <td>0.316393</td>\n",
       "      <td>0.265317</td>\n",
       "      <td>0.060929</td>\n",
       "      <td>2.237446e-01</td>\n",
       "      <td>1.209882e-01</td>\n",
       "      <td>2.806677e-02</td>\n",
       "      <td>3.234318e-04</td>\n",
       "      <td>1.533012</td>\n",
       "    </tr>\n",
       "    <tr>\n",
       "      <th>min</th>\n",
       "      <td>0.000000</td>\n",
       "      <td>0.000032</td>\n",
       "      <td>0.000030</td>\n",
       "      <td>4.309145e-07</td>\n",
       "      <td>5.995916e-07</td>\n",
       "      <td>6.979426e-08</td>\n",
       "      <td>4.308682e-09</td>\n",
       "      <td>-16.080964</td>\n",
       "    </tr>\n",
       "    <tr>\n",
       "      <th>25%</th>\n",
       "      <td>0.200000</td>\n",
       "      <td>0.240325</td>\n",
       "      <td>0.069953</td>\n",
       "      <td>2.363832e-02</td>\n",
       "      <td>2.015096e-02</td>\n",
       "      <td>1.700349e-02</td>\n",
       "      <td>3.354257e-05</td>\n",
       "      <td>-12.860174</td>\n",
       "    </tr>\n",
       "    <tr>\n",
       "      <th>50%</th>\n",
       "      <td>0.500000</td>\n",
       "      <td>0.514448</td>\n",
       "      <td>0.150590</td>\n",
       "      <td>1.432575e-01</td>\n",
       "      <td>7.932525e-02</td>\n",
       "      <td>3.618492e-02</td>\n",
       "      <td>2.534498e-04</td>\n",
       "      <td>-12.279939</td>\n",
       "    </tr>\n",
       "    <tr>\n",
       "      <th>75%</th>\n",
       "      <td>0.800000</td>\n",
       "      <td>0.756252</td>\n",
       "      <td>0.169211</td>\n",
       "      <td>3.925769e-01</td>\n",
       "      <td>2.277984e-01</td>\n",
       "      <td>6.364010e-02</td>\n",
       "      <td>6.204303e-04</td>\n",
       "      <td>-10.037978</td>\n",
       "    </tr>\n",
       "    <tr>\n",
       "      <th>max</th>\n",
       "      <td>1.000000</td>\n",
       "      <td>0.799999</td>\n",
       "      <td>0.219973</td>\n",
       "      <td>7.996490e-01</td>\n",
       "      <td>3.998482e-01</td>\n",
       "      <td>9.999711e-02</td>\n",
       "      <td>9.999920e-04</td>\n",
       "      <td>-9.109534</td>\n",
       "    </tr>\n",
       "  </tbody>\n",
       "</table>\n",
       "</div>"
      ],
      "text/plain": [
       "                  EN             N2             O2             N  \\\n",
       "count  132000.000000  132000.000000  132000.000000  1.320000e+05   \n",
       "mean        0.499530       0.484425       0.123095  2.231315e-01   \n",
       "std         0.316393       0.265317       0.060929  2.237446e-01   \n",
       "min         0.000000       0.000032       0.000030  4.309145e-07   \n",
       "25%         0.200000       0.240325       0.069953  2.363832e-02   \n",
       "50%         0.500000       0.514448       0.150590  1.432575e-01   \n",
       "75%         0.800000       0.756252       0.169211  3.925769e-01   \n",
       "max         1.000000       0.799999       0.219973  7.996490e-01   \n",
       "\n",
       "                  O            NO           ION          ECOND  \n",
       "count  1.320000e+05  1.320000e+05  1.320000e+05  132000.000000  \n",
       "mean   1.279743e-01  4.103407e-02  3.400536e-04     -11.712777  \n",
       "std    1.209882e-01  2.806677e-02  3.234318e-04       1.533012  \n",
       "min    5.995916e-07  6.979426e-08  4.308682e-09     -16.080964  \n",
       "25%    2.015096e-02  1.700349e-02  3.354257e-05     -12.860174  \n",
       "50%    7.932525e-02  3.618492e-02  2.534498e-04     -12.279939  \n",
       "75%    2.277984e-01  6.364010e-02  6.204303e-04     -10.037978  \n",
       "max    3.998482e-01  9.999711e-02  9.999920e-04      -9.109534  "
      ]
     },
     "execution_count": 50,
     "metadata": {},
     "output_type": "execute_result"
    }
   ],
   "source": [
    "data_exploration.describe()"
   ]
  },
  {
   "cell_type": "markdown",
   "metadata": {},
   "source": [
    "# Prepare the Data for Machine Learning Algorithms\n"
   ]
  },
  {
   "cell_type": "code",
   "execution_count": 51,
   "metadata": {},
   "outputs": [],
   "source": [
    "train_data = train_set.drop(\"ECOND\", axis=1) # drop labels for training set\n",
    "train_label = train_set[\"ECOND\"].copy()"
   ]
  },
  {
   "cell_type": "code",
   "execution_count": null,
   "metadata": {},
   "outputs": [],
   "source": []
  },
  {
   "cell_type": "markdown",
   "metadata": {},
   "source": [
    "## Transformation Pipelines"
   ]
  },
  {
   "cell_type": "code",
   "execution_count": 52,
   "metadata": {},
   "outputs": [],
   "source": [
    "from sklearn.pipeline import Pipeline\n",
    "from sklearn.preprocessing import StandardScaler\n",
    "\n",
    "preprocessing_pipeline = Pipeline([\n",
    "        ('std_scaler', StandardScaler()),\n",
    "    ])\n",
    "\n",
    "train_data_prepared = preprocessing_pipeline.fit_transform(train_data)"
   ]
  },
  {
   "cell_type": "markdown",
   "metadata": {},
   "source": []
  },
  {
   "cell_type": "markdown",
   "metadata": {},
   "source": [
    "# Select and Train a Model\n"
   ]
  },
  {
   "cell_type": "markdown",
   "metadata": {},
   "source": [
    "## Training and Evaluating on the Training Set"
   ]
  },
  {
   "cell_type": "code",
   "execution_count": 53,
   "metadata": {},
   "outputs": [
    {
     "data": {
      "text/plain": [
       "MLPRegressor()"
      ]
     },
     "execution_count": 53,
     "metadata": {},
     "output_type": "execute_result"
    }
   ],
   "source": [
    "from sklearn.neural_network import MLPRegressor\n",
    "neuralNet = MLPRegressor()\n",
    "neuralNet.fit(train_data_prepared, train_label)"
   ]
  },
  {
   "cell_type": "code",
   "execution_count": 54,
   "metadata": {},
   "outputs": [
    {
     "name": "stdout",
     "output_type": "stream",
     "text": [
      "Predictions: [-13.1924379  -12.46621549  -9.43850731  -9.55625849 -13.15621234]\n"
     ]
    }
   ],
   "source": [
    "# let's try the full preprocessing pipeline on a few training instances\n",
    "some_data = train_data.iloc[:5]\n",
    "some_labels = train_label.iloc[:5]\n",
    "some_data_prepared = preprocessing_pipeline.transform(some_data)\n",
    "\n",
    "print(\"Predictions:\", neuralNet.predict(some_data_prepared))"
   ]
  },
  {
   "cell_type": "code",
   "execution_count": 55,
   "metadata": {},
   "outputs": [
    {
     "name": "stdout",
     "output_type": "stream",
     "text": [
      "Labels: [-13.138966069828294, -11.576621025563872, -9.482276439536296, -9.542096509846774, -13.079227440529037]\n"
     ]
    }
   ],
   "source": [
    "print(\"Labels:\", list(some_labels))"
   ]
  },
  {
   "cell_type": "code",
   "execution_count": 56,
   "metadata": {},
   "outputs": [
    {
     "data": {
      "text/plain": [
       "0.3020078457299712"
      ]
     },
     "execution_count": 56,
     "metadata": {},
     "output_type": "execute_result"
    }
   ],
   "source": [
    "from sklearn.metrics import mean_squared_error\n",
    "\n",
    "econd_predictions = neuralNet.predict(train_data_prepared)\n",
    "nn_mse = mean_squared_error(train_label, econd_predictions)\n",
    "nn_rmse = np.sqrt(nn_mse)\n",
    "nn_rmse"
   ]
  },
  {
   "cell_type": "code",
   "execution_count": 57,
   "metadata": {},
   "outputs": [
    {
     "data": {
      "text/plain": [
       "0.15941404732988637"
      ]
     },
     "execution_count": 57,
     "metadata": {},
     "output_type": "execute_result"
    }
   ],
   "source": [
    "from sklearn.metrics import mean_absolute_error\n",
    "\n",
    "nn_mae = mean_absolute_error(train_label, econd_predictions)\n",
    "nn_mae"
   ]
  },
  {
   "cell_type": "code",
   "execution_count": 23,
   "metadata": {},
   "outputs": [
    {
     "data": {
      "text/plain": [
       "DecisionTreeRegressor(random_state=42)"
      ]
     },
     "execution_count": 23,
     "metadata": {},
     "output_type": "execute_result"
    }
   ],
   "source": [
    "from sklearn.tree import DecisionTreeRegressor\n",
    "\n",
    "tree_reg = DecisionTreeRegressor(random_state=42)\n",
    "tree_reg.fit(train_data_prepared, train_label)"
   ]
  },
  {
   "cell_type": "code",
   "execution_count": 24,
   "metadata": {},
   "outputs": [
    {
     "data": {
      "text/plain": [
       "2.947377123443392e-16"
      ]
     },
     "execution_count": 24,
     "metadata": {},
     "output_type": "execute_result"
    }
   ],
   "source": [
    "econd_predictions = tree_reg.predict(train_data_prepared)\n",
    "tree_mse = mean_squared_error(train_label, econd_predictions)\n",
    "tree_rmse = np.sqrt(tree_mse)\n",
    "tree_rmse"
   ]
  },
  {
   "cell_type": "markdown",
   "metadata": {},
   "source": [
    "## Better Evaluation Using Cross-Validation"
   ]
  },
  {
   "cell_type": "code",
   "execution_count": 25,
   "metadata": {},
   "outputs": [],
   "source": [
    "from sklearn.model_selection import cross_val_score\n",
    "\n",
    "scores = cross_val_score(tree_reg, train_data_prepared, train_label,\n",
    "                         scoring=\"neg_mean_squared_error\", cv=10)\n",
    "tree_rmse_scores = np.sqrt(-scores)"
   ]
  },
  {
   "cell_type": "code",
   "execution_count": 58,
   "metadata": {},
   "outputs": [
    {
     "ename": "NameError",
     "evalue": "name 'tree_rmse_scores' is not defined",
     "output_type": "error",
     "traceback": [
      "\u001b[1;31m---------------------------------------------------------------------------\u001b[0m",
      "\u001b[1;31mNameError\u001b[0m                                 Traceback (most recent call last)",
      "\u001b[1;32m<ipython-input-58-98084f18c229>\u001b[0m in \u001b[0;36m<module>\u001b[1;34m\u001b[0m\n\u001b[0;32m      4\u001b[0m     \u001b[0mprint\u001b[0m\u001b[1;33m(\u001b[0m\u001b[1;34m\"Standard deviation:\"\u001b[0m\u001b[1;33m,\u001b[0m \u001b[0mscores\u001b[0m\u001b[1;33m.\u001b[0m\u001b[0mstd\u001b[0m\u001b[1;33m(\u001b[0m\u001b[1;33m)\u001b[0m\u001b[1;33m)\u001b[0m\u001b[1;33m\u001b[0m\u001b[1;33m\u001b[0m\u001b[0m\n\u001b[0;32m      5\u001b[0m \u001b[1;33m\u001b[0m\u001b[0m\n\u001b[1;32m----> 6\u001b[1;33m \u001b[0mdisplay_scores\u001b[0m\u001b[1;33m(\u001b[0m\u001b[0mtree_rmse_scores\u001b[0m\u001b[1;33m)\u001b[0m\u001b[1;33m\u001b[0m\u001b[1;33m\u001b[0m\u001b[0m\n\u001b[0m",
      "\u001b[1;31mNameError\u001b[0m: name 'tree_rmse_scores' is not defined"
     ]
    }
   ],
   "source": [
    "def display_scores(scores):\n",
    "    print(\"Scores:\", scores)\n",
    "    print(\"Mean:\", scores.mean())\n",
    "    print(\"Standard deviation:\", scores.std())\n",
    "\n",
    "display_scores(tree_rmse_scores)"
   ]
  },
  {
   "cell_type": "code",
   "execution_count": 27,
   "metadata": {},
   "outputs": [
    {
     "name": "stdout",
     "output_type": "stream",
     "text": [
      "Scores: [0.30774156 0.29485006 0.29643486 0.29753562 0.29541424 0.29557916\n",
      " 0.29790422 0.30073167 0.29816568 0.30310057]\n",
      "Mean: 0.2987457648089924\n",
      "Standard deviation: 0.003846880249766548\n"
     ]
    }
   ],
   "source": [
    "nn_scores = cross_val_score(neuralNet, train_data_prepared, train_label,\n",
    "                             scoring=\"neg_mean_squared_error\", cv=10)\n",
    "nn_rmse_scores = np.sqrt(-nn_scores)\n",
    "display_scores(nn_rmse_scores)"
   ]
  },
  {
   "cell_type": "code",
   "execution_count": 28,
   "metadata": {},
   "outputs": [
    {
     "data": {
      "text/plain": [
       "RandomForestRegressor(random_state=42)"
      ]
     },
     "execution_count": 28,
     "metadata": {},
     "output_type": "execute_result"
    }
   ],
   "source": [
    "from sklearn.ensemble import RandomForestRegressor\n",
    "\n",
    "forest_reg = RandomForestRegressor(n_estimators=100, random_state=42)\n",
    "forest_reg.fit(train_data_prepared, train_label)"
   ]
  },
  {
   "cell_type": "code",
   "execution_count": 29,
   "metadata": {},
   "outputs": [
    {
     "data": {
      "text/plain": [
       "0.10779800109911036"
      ]
     },
     "execution_count": 29,
     "metadata": {},
     "output_type": "execute_result"
    }
   ],
   "source": [
    "econd_predictions = forest_reg.predict(train_data_prepared)\n",
    "forest_mse = mean_squared_error(train_label, econd_predictions)\n",
    "forest_rmse = np.sqrt(forest_mse)\n",
    "forest_rmse"
   ]
  },
  {
   "cell_type": "code",
   "execution_count": 30,
   "metadata": {},
   "outputs": [
    {
     "name": "stdout",
     "output_type": "stream",
     "text": [
      "Scores: [0.29004773 0.28506236 0.28358598 0.29406727 0.29068302]\n",
      "Mean: 0.2886892685893791\n",
      "Standard deviation: 0.0038455528639375278\n"
     ]
    }
   ],
   "source": [
    "from sklearn.model_selection import cross_val_score\n",
    "\n",
    "forest_scores = cross_val_score(forest_reg, train_data_prepared, train_label,\n",
    "                                scoring=\"neg_mean_squared_error\", cv=5)\n",
    "forest_rmse_scores = np.sqrt(-forest_scores)\n",
    "display_scores(forest_rmse_scores)"
   ]
  },
  {
   "cell_type": "code",
   "execution_count": null,
   "metadata": {},
   "outputs": [],
   "source": []
  },
  {
   "cell_type": "markdown",
   "metadata": {},
   "source": [
    "# Fine-Tuning"
   ]
  },
  {
   "cell_type": "markdown",
   "metadata": {},
   "source": [
    "## Grid Search"
   ]
  },
  {
   "cell_type": "code",
   "execution_count": 35,
   "metadata": {},
   "outputs": [
    {
     "name": "stdout",
     "output_type": "stream",
     "text": [
      "Fitting 5 folds for each of 18 candidates, totalling 90 fits\n",
      "[CV] activation=relu, alpha=0.0001, hidden_layer_sizes=(64, 16, 8), learning_rate=constant \n"
     ]
    },
    {
     "name": "stderr",
     "output_type": "stream",
     "text": [
      "[Parallel(n_jobs=1)]: Using backend SequentialBackend with 1 concurrent workers.\n"
     ]
    },
    {
     "name": "stdout",
     "output_type": "stream",
     "text": [
      "[CV]  activation=relu, alpha=0.0001, hidden_layer_sizes=(64, 16, 8), learning_rate=constant, score=(train=-0.083, test=-0.084), total=  57.4s\n",
      "[CV] activation=relu, alpha=0.0001, hidden_layer_sizes=(64, 16, 8), learning_rate=constant \n"
     ]
    },
    {
     "name": "stderr",
     "output_type": "stream",
     "text": [
      "[Parallel(n_jobs=1)]: Done   1 out of   1 | elapsed:   57.6s remaining:    0.0s\n"
     ]
    },
    {
     "name": "stdout",
     "output_type": "stream",
     "text": [
      "[CV]  activation=relu, alpha=0.0001, hidden_layer_sizes=(64, 16, 8), learning_rate=constant, score=(train=-0.086, test=-0.084), total=  38.9s\n",
      "[CV] activation=relu, alpha=0.0001, hidden_layer_sizes=(64, 16, 8), learning_rate=constant \n"
     ]
    },
    {
     "name": "stderr",
     "output_type": "stream",
     "text": [
      "[Parallel(n_jobs=1)]: Done   2 out of   2 | elapsed:  1.6min remaining:    0.0s\n"
     ]
    },
    {
     "name": "stdout",
     "output_type": "stream",
     "text": [
      "[CV]  activation=relu, alpha=0.0001, hidden_layer_sizes=(64, 16, 8), learning_rate=constant, score=(train=-0.088, test=-0.087), total= 1.7min\n",
      "[CV] activation=relu, alpha=0.0001, hidden_layer_sizes=(64, 16, 8), learning_rate=constant \n"
     ]
    },
    {
     "name": "stderr",
     "output_type": "stream",
     "text": [
      "[Parallel(n_jobs=1)]: Done   3 out of   3 | elapsed:  3.3min remaining:    0.0s\n"
     ]
    },
    {
     "name": "stdout",
     "output_type": "stream",
     "text": [
      "[CV]  activation=relu, alpha=0.0001, hidden_layer_sizes=(64, 16, 8), learning_rate=constant, score=(train=-0.084, test=-0.088), total= 1.2min\n",
      "[CV] activation=relu, alpha=0.0001, hidden_layer_sizes=(64, 16, 8), learning_rate=constant \n"
     ]
    },
    {
     "name": "stderr",
     "output_type": "stream",
     "text": [
      "[Parallel(n_jobs=1)]: Done   4 out of   4 | elapsed:  4.5min remaining:    0.0s\n"
     ]
    },
    {
     "name": "stdout",
     "output_type": "stream",
     "text": [
      "[CV]  activation=relu, alpha=0.0001, hidden_layer_sizes=(64, 16, 8), learning_rate=constant, score=(train=-0.084, test=-0.086), total= 1.0min\n",
      "[CV] activation=relu, alpha=0.0001, hidden_layer_sizes=(64, 16, 8), learning_rate=invscaling \n"
     ]
    },
    {
     "name": "stderr",
     "output_type": "stream",
     "text": [
      "[Parallel(n_jobs=1)]: Done   5 out of   5 | elapsed:  5.5min remaining:    0.0s\n"
     ]
    },
    {
     "name": "stdout",
     "output_type": "stream",
     "text": [
      "[CV]  activation=relu, alpha=0.0001, hidden_layer_sizes=(64, 16, 8), learning_rate=invscaling, score=(train=-0.083, test=-0.084), total=  53.9s\n",
      "[CV] activation=relu, alpha=0.0001, hidden_layer_sizes=(64, 16, 8), learning_rate=invscaling \n"
     ]
    },
    {
     "name": "stderr",
     "output_type": "stream",
     "text": [
      "[Parallel(n_jobs=1)]: Done   6 out of   6 | elapsed:  6.4min remaining:    0.0s\n"
     ]
    },
    {
     "name": "stdout",
     "output_type": "stream",
     "text": [
      "[CV]  activation=relu, alpha=0.0001, hidden_layer_sizes=(64, 16, 8), learning_rate=invscaling, score=(train=-0.086, test=-0.084), total=  33.8s\n",
      "[CV] activation=relu, alpha=0.0001, hidden_layer_sizes=(64, 16, 8), learning_rate=invscaling \n"
     ]
    },
    {
     "name": "stderr",
     "output_type": "stream",
     "text": [
      "[Parallel(n_jobs=1)]: Done   7 out of   7 | elapsed:  7.0min remaining:    0.0s\n"
     ]
    },
    {
     "name": "stdout",
     "output_type": "stream",
     "text": [
      "[CV]  activation=relu, alpha=0.0001, hidden_layer_sizes=(64, 16, 8), learning_rate=invscaling, score=(train=-0.088, test=-0.087), total= 1.8min\n",
      "[CV] activation=relu, alpha=0.0001, hidden_layer_sizes=(64, 16, 8), learning_rate=invscaling \n"
     ]
    },
    {
     "name": "stderr",
     "output_type": "stream",
     "text": [
      "[Parallel(n_jobs=1)]: Done   8 out of   8 | elapsed:  8.8min remaining:    0.0s\n"
     ]
    },
    {
     "name": "stdout",
     "output_type": "stream",
     "text": [
      "[CV]  activation=relu, alpha=0.0001, hidden_layer_sizes=(64, 16, 8), learning_rate=invscaling, score=(train=-0.084, test=-0.088), total= 1.0min\n",
      "[CV] activation=relu, alpha=0.0001, hidden_layer_sizes=(64, 16, 8), learning_rate=invscaling \n"
     ]
    },
    {
     "name": "stderr",
     "output_type": "stream",
     "text": [
      "[Parallel(n_jobs=1)]: Done   9 out of   9 | elapsed:  9.8min remaining:    0.0s\n"
     ]
    },
    {
     "name": "stdout",
     "output_type": "stream",
     "text": [
      "[CV]  activation=relu, alpha=0.0001, hidden_layer_sizes=(64, 16, 8), learning_rate=invscaling, score=(train=-0.084, test=-0.086), total=  44.2s\n",
      "[CV] activation=relu, alpha=0.0001, hidden_layer_sizes=(64, 16, 8), learning_rate=adaptive \n"
     ]
    },
    {
     "name": "stderr",
     "output_type": "stream",
     "text": [
      "[Parallel(n_jobs=1)]: Done  10 out of  10 | elapsed: 10.6min remaining:    0.0s\n"
     ]
    },
    {
     "name": "stdout",
     "output_type": "stream",
     "text": [
      "[CV]  activation=relu, alpha=0.0001, hidden_layer_sizes=(64, 16, 8), learning_rate=adaptive, score=(train=-0.083, test=-0.084), total=  56.7s\n",
      "[CV] activation=relu, alpha=0.0001, hidden_layer_sizes=(64, 16, 8), learning_rate=adaptive \n"
     ]
    },
    {
     "name": "stderr",
     "output_type": "stream",
     "text": [
      "[Parallel(n_jobs=1)]: Done  11 out of  11 | elapsed: 11.5min remaining:    0.0s\n"
     ]
    },
    {
     "name": "stdout",
     "output_type": "stream",
     "text": [
      "[CV]  activation=relu, alpha=0.0001, hidden_layer_sizes=(64, 16, 8), learning_rate=adaptive, score=(train=-0.086, test=-0.084), total=  38.0s\n",
      "[CV] activation=relu, alpha=0.0001, hidden_layer_sizes=(64, 16, 8), learning_rate=adaptive \n"
     ]
    },
    {
     "name": "stderr",
     "output_type": "stream",
     "text": [
      "[Parallel(n_jobs=1)]: Done  12 out of  12 | elapsed: 12.2min remaining:    0.0s\n"
     ]
    },
    {
     "name": "stdout",
     "output_type": "stream",
     "text": [
      "[CV]  activation=relu, alpha=0.0001, hidden_layer_sizes=(64, 16, 8), learning_rate=adaptive, score=(train=-0.088, test=-0.087), total= 1.6min\n",
      "[CV] activation=relu, alpha=0.0001, hidden_layer_sizes=(64, 16, 8), learning_rate=adaptive \n"
     ]
    },
    {
     "name": "stderr",
     "output_type": "stream",
     "text": [
      "[Parallel(n_jobs=1)]: Done  13 out of  13 | elapsed: 13.8min remaining:    0.0s\n"
     ]
    },
    {
     "name": "stdout",
     "output_type": "stream",
     "text": [
      "[CV]  activation=relu, alpha=0.0001, hidden_layer_sizes=(64, 16, 8), learning_rate=adaptive, score=(train=-0.084, test=-0.088), total=  59.2s\n",
      "[CV] activation=relu, alpha=0.0001, hidden_layer_sizes=(64, 16, 8), learning_rate=adaptive \n"
     ]
    },
    {
     "name": "stderr",
     "output_type": "stream",
     "text": [
      "[Parallel(n_jobs=1)]: Done  14 out of  14 | elapsed: 14.8min remaining:    0.0s\n"
     ]
    },
    {
     "name": "stdout",
     "output_type": "stream",
     "text": [
      "[CV]  activation=relu, alpha=0.0001, hidden_layer_sizes=(64, 16, 8), learning_rate=adaptive, score=(train=-0.084, test=-0.086), total=  39.4s\n",
      "[CV] activation=relu, alpha=0.0001, hidden_layer_sizes=(32, 16, 8), learning_rate=constant \n"
     ]
    },
    {
     "name": "stderr",
     "output_type": "stream",
     "text": [
      "[Parallel(n_jobs=1)]: Done  15 out of  15 | elapsed: 15.4min remaining:    0.0s\n"
     ]
    },
    {
     "name": "stdout",
     "output_type": "stream",
     "text": [
      "[CV]  activation=relu, alpha=0.0001, hidden_layer_sizes=(32, 16, 8), learning_rate=constant, score=(train=-0.084, test=-0.086), total=  36.5s\n",
      "[CV] activation=relu, alpha=0.0001, hidden_layer_sizes=(32, 16, 8), learning_rate=constant \n"
     ]
    },
    {
     "name": "stderr",
     "output_type": "stream",
     "text": [
      "[Parallel(n_jobs=1)]: Done  16 out of  16 | elapsed: 16.0min remaining:    0.0s\n"
     ]
    },
    {
     "name": "stdout",
     "output_type": "stream",
     "text": [
      "[CV]  activation=relu, alpha=0.0001, hidden_layer_sizes=(32, 16, 8), learning_rate=constant, score=(train=-0.086, test=-0.085), total=  41.6s\n",
      "[CV] activation=relu, alpha=0.0001, hidden_layer_sizes=(32, 16, 8), learning_rate=constant \n"
     ]
    },
    {
     "name": "stderr",
     "output_type": "stream",
     "text": [
      "[Parallel(n_jobs=1)]: Done  17 out of  17 | elapsed: 16.7min remaining:    0.0s\n"
     ]
    },
    {
     "name": "stdout",
     "output_type": "stream",
     "text": [
      "[CV]  activation=relu, alpha=0.0001, hidden_layer_sizes=(32, 16, 8), learning_rate=constant, score=(train=-0.084, test=-0.082), total=  54.8s\n",
      "[CV] activation=relu, alpha=0.0001, hidden_layer_sizes=(32, 16, 8), learning_rate=constant \n"
     ]
    },
    {
     "name": "stderr",
     "output_type": "stream",
     "text": [
      "[Parallel(n_jobs=1)]: Done  18 out of  18 | elapsed: 17.6min remaining:    0.0s\n"
     ]
    },
    {
     "name": "stdout",
     "output_type": "stream",
     "text": [
      "[CV]  activation=relu, alpha=0.0001, hidden_layer_sizes=(32, 16, 8), learning_rate=constant, score=(train=-0.085, test=-0.088), total=  37.7s\n",
      "[CV] activation=relu, alpha=0.0001, hidden_layer_sizes=(32, 16, 8), learning_rate=constant \n"
     ]
    },
    {
     "name": "stderr",
     "output_type": "stream",
     "text": [
      "[Parallel(n_jobs=1)]: Done  19 out of  19 | elapsed: 18.3min remaining:    0.0s\n"
     ]
    },
    {
     "name": "stdout",
     "output_type": "stream",
     "text": [
      "[CV]  activation=relu, alpha=0.0001, hidden_layer_sizes=(32, 16, 8), learning_rate=constant, score=(train=-0.085, test=-0.087), total=  42.5s\n",
      "[CV] activation=relu, alpha=0.0001, hidden_layer_sizes=(32, 16, 8), learning_rate=invscaling \n"
     ]
    },
    {
     "name": "stderr",
     "output_type": "stream",
     "text": [
      "[Parallel(n_jobs=1)]: Done  20 out of  20 | elapsed: 19.0min remaining:    0.0s\n"
     ]
    },
    {
     "name": "stdout",
     "output_type": "stream",
     "text": [
      "[CV]  activation=relu, alpha=0.0001, hidden_layer_sizes=(32, 16, 8), learning_rate=invscaling, score=(train=-0.084, test=-0.086), total=  35.8s\n",
      "[CV] activation=relu, alpha=0.0001, hidden_layer_sizes=(32, 16, 8), learning_rate=invscaling \n"
     ]
    },
    {
     "name": "stderr",
     "output_type": "stream",
     "text": [
      "[Parallel(n_jobs=1)]: Done  21 out of  21 | elapsed: 19.6min remaining:    0.0s\n"
     ]
    },
    {
     "name": "stdout",
     "output_type": "stream",
     "text": [
      "[CV]  activation=relu, alpha=0.0001, hidden_layer_sizes=(32, 16, 8), learning_rate=invscaling, score=(train=-0.086, test=-0.085), total=  41.9s\n",
      "[CV] activation=relu, alpha=0.0001, hidden_layer_sizes=(32, 16, 8), learning_rate=invscaling \n"
     ]
    },
    {
     "name": "stderr",
     "output_type": "stream",
     "text": [
      "[Parallel(n_jobs=1)]: Done  22 out of  22 | elapsed: 20.3min remaining:    0.0s\n"
     ]
    },
    {
     "name": "stdout",
     "output_type": "stream",
     "text": [
      "[CV]  activation=relu, alpha=0.0001, hidden_layer_sizes=(32, 16, 8), learning_rate=invscaling, score=(train=-0.084, test=-0.082), total=  53.9s\n",
      "[CV] activation=relu, alpha=0.0001, hidden_layer_sizes=(32, 16, 8), learning_rate=invscaling \n"
     ]
    },
    {
     "name": "stderr",
     "output_type": "stream",
     "text": [
      "[Parallel(n_jobs=1)]: Done  23 out of  23 | elapsed: 21.2min remaining:    0.0s\n"
     ]
    },
    {
     "name": "stdout",
     "output_type": "stream",
     "text": [
      "[CV]  activation=relu, alpha=0.0001, hidden_layer_sizes=(32, 16, 8), learning_rate=invscaling, score=(train=-0.085, test=-0.088), total=  38.2s\n",
      "[CV] activation=relu, alpha=0.0001, hidden_layer_sizes=(32, 16, 8), learning_rate=invscaling \n"
     ]
    },
    {
     "name": "stderr",
     "output_type": "stream",
     "text": [
      "[Parallel(n_jobs=1)]: Done  24 out of  24 | elapsed: 21.8min remaining:    0.0s\n"
     ]
    },
    {
     "name": "stdout",
     "output_type": "stream",
     "text": [
      "[CV]  activation=relu, alpha=0.0001, hidden_layer_sizes=(32, 16, 8), learning_rate=invscaling, score=(train=-0.085, test=-0.087), total=  41.7s\n",
      "[CV] activation=relu, alpha=0.0001, hidden_layer_sizes=(32, 16, 8), learning_rate=adaptive \n"
     ]
    },
    {
     "name": "stderr",
     "output_type": "stream",
     "text": [
      "[Parallel(n_jobs=1)]: Done  25 out of  25 | elapsed: 22.5min remaining:    0.0s\n"
     ]
    },
    {
     "name": "stdout",
     "output_type": "stream",
     "text": [
      "[CV]  activation=relu, alpha=0.0001, hidden_layer_sizes=(32, 16, 8), learning_rate=adaptive, score=(train=-0.084, test=-0.086), total=  35.9s\n",
      "[CV] activation=relu, alpha=0.0001, hidden_layer_sizes=(32, 16, 8), learning_rate=adaptive \n"
     ]
    },
    {
     "name": "stderr",
     "output_type": "stream",
     "text": [
      "[Parallel(n_jobs=1)]: Done  26 out of  26 | elapsed: 23.1min remaining:    0.0s\n"
     ]
    },
    {
     "name": "stdout",
     "output_type": "stream",
     "text": [
      "[CV]  activation=relu, alpha=0.0001, hidden_layer_sizes=(32, 16, 8), learning_rate=adaptive, score=(train=-0.086, test=-0.085), total=  42.1s\n",
      "[CV] activation=relu, alpha=0.0001, hidden_layer_sizes=(32, 16, 8), learning_rate=adaptive \n"
     ]
    },
    {
     "name": "stderr",
     "output_type": "stream",
     "text": [
      "[Parallel(n_jobs=1)]: Done  27 out of  27 | elapsed: 23.8min remaining:    0.0s\n"
     ]
    },
    {
     "name": "stdout",
     "output_type": "stream",
     "text": [
      "[CV]  activation=relu, alpha=0.0001, hidden_layer_sizes=(32, 16, 8), learning_rate=adaptive, score=(train=-0.084, test=-0.082), total=  54.5s\n",
      "[CV] activation=relu, alpha=0.0001, hidden_layer_sizes=(32, 16, 8), learning_rate=adaptive \n"
     ]
    },
    {
     "name": "stderr",
     "output_type": "stream",
     "text": [
      "[Parallel(n_jobs=1)]: Done  28 out of  28 | elapsed: 24.7min remaining:    0.0s\n"
     ]
    },
    {
     "name": "stdout",
     "output_type": "stream",
     "text": [
      "[CV]  activation=relu, alpha=0.0001, hidden_layer_sizes=(32, 16, 8), learning_rate=adaptive, score=(train=-0.085, test=-0.088), total=  38.4s\n",
      "[CV] activation=relu, alpha=0.0001, hidden_layer_sizes=(32, 16, 8), learning_rate=adaptive \n"
     ]
    },
    {
     "name": "stderr",
     "output_type": "stream",
     "text": [
      "[Parallel(n_jobs=1)]: Done  29 out of  29 | elapsed: 25.4min remaining:    0.0s\n"
     ]
    },
    {
     "name": "stdout",
     "output_type": "stream",
     "text": [
      "[CV]  activation=relu, alpha=0.0001, hidden_layer_sizes=(32, 16, 8), learning_rate=adaptive, score=(train=-0.085, test=-0.087), total=  42.7s\n",
      "[CV] activation=relu, alpha=0.0001, hidden_layer_sizes=(16, 8), learning_rate=constant \n"
     ]
    },
    {
     "name": "stderr",
     "output_type": "stream",
     "text": [
      "[Parallel(n_jobs=1)]: Done  30 out of  30 | elapsed: 26.1min remaining:    0.0s\n"
     ]
    },
    {
     "name": "stdout",
     "output_type": "stream",
     "text": [
      "[CV]  activation=relu, alpha=0.0001, hidden_layer_sizes=(16, 8), learning_rate=constant, score=(train=-0.086, test=-0.088), total=  16.6s\n",
      "[CV] activation=relu, alpha=0.0001, hidden_layer_sizes=(16, 8), learning_rate=constant \n"
     ]
    },
    {
     "name": "stderr",
     "output_type": "stream",
     "text": [
      "[Parallel(n_jobs=1)]: Done  31 out of  31 | elapsed: 26.4min remaining:    0.0s\n"
     ]
    },
    {
     "name": "stdout",
     "output_type": "stream",
     "text": [
      "[CV]  activation=relu, alpha=0.0001, hidden_layer_sizes=(16, 8), learning_rate=constant, score=(train=-0.092, test=-0.090), total=  20.6s\n",
      "[CV] activation=relu, alpha=0.0001, hidden_layer_sizes=(16, 8), learning_rate=constant \n"
     ]
    },
    {
     "name": "stderr",
     "output_type": "stream",
     "text": [
      "[Parallel(n_jobs=1)]: Done  32 out of  32 | elapsed: 26.7min remaining:    0.0s\n"
     ]
    },
    {
     "name": "stdout",
     "output_type": "stream",
     "text": [
      "[CV]  activation=relu, alpha=0.0001, hidden_layer_sizes=(16, 8), learning_rate=constant, score=(train=-0.086, test=-0.083), total=  17.2s\n",
      "[CV] activation=relu, alpha=0.0001, hidden_layer_sizes=(16, 8), learning_rate=constant \n"
     ]
    },
    {
     "name": "stderr",
     "output_type": "stream",
     "text": [
      "[Parallel(n_jobs=1)]: Done  33 out of  33 | elapsed: 27.0min remaining:    0.0s\n"
     ]
    },
    {
     "name": "stdout",
     "output_type": "stream",
     "text": [
      "[CV]  activation=relu, alpha=0.0001, hidden_layer_sizes=(16, 8), learning_rate=constant, score=(train=-0.084, test=-0.087), total=  30.0s\n",
      "[CV] activation=relu, alpha=0.0001, hidden_layer_sizes=(16, 8), learning_rate=constant \n"
     ]
    },
    {
     "name": "stderr",
     "output_type": "stream",
     "text": [
      "[Parallel(n_jobs=1)]: Done  34 out of  34 | elapsed: 27.5min remaining:    0.0s\n"
     ]
    },
    {
     "name": "stdout",
     "output_type": "stream",
     "text": [
      "[CV]  activation=relu, alpha=0.0001, hidden_layer_sizes=(16, 8), learning_rate=constant, score=(train=-0.088, test=-0.090), total=  22.7s\n",
      "[CV] activation=relu, alpha=0.0001, hidden_layer_sizes=(16, 8), learning_rate=invscaling \n"
     ]
    },
    {
     "name": "stderr",
     "output_type": "stream",
     "text": [
      "[Parallel(n_jobs=1)]: Done  35 out of  35 | elapsed: 27.9min remaining:    0.0s\n"
     ]
    },
    {
     "name": "stdout",
     "output_type": "stream",
     "text": [
      "[CV]  activation=relu, alpha=0.0001, hidden_layer_sizes=(16, 8), learning_rate=invscaling, score=(train=-0.086, test=-0.088), total=  17.6s\n",
      "[CV] activation=relu, alpha=0.0001, hidden_layer_sizes=(16, 8), learning_rate=invscaling \n"
     ]
    },
    {
     "name": "stderr",
     "output_type": "stream",
     "text": [
      "[Parallel(n_jobs=1)]: Done  36 out of  36 | elapsed: 28.2min remaining:    0.0s\n"
     ]
    },
    {
     "name": "stdout",
     "output_type": "stream",
     "text": [
      "[CV]  activation=relu, alpha=0.0001, hidden_layer_sizes=(16, 8), learning_rate=invscaling, score=(train=-0.092, test=-0.090), total=  20.6s\n",
      "[CV] activation=relu, alpha=0.0001, hidden_layer_sizes=(16, 8), learning_rate=invscaling \n"
     ]
    },
    {
     "name": "stderr",
     "output_type": "stream",
     "text": [
      "[Parallel(n_jobs=1)]: Done  37 out of  37 | elapsed: 28.5min remaining:    0.0s\n"
     ]
    },
    {
     "name": "stdout",
     "output_type": "stream",
     "text": [
      "[CV]  activation=relu, alpha=0.0001, hidden_layer_sizes=(16, 8), learning_rate=invscaling, score=(train=-0.086, test=-0.083), total=  17.0s\n",
      "[CV] activation=relu, alpha=0.0001, hidden_layer_sizes=(16, 8), learning_rate=invscaling \n"
     ]
    },
    {
     "name": "stderr",
     "output_type": "stream",
     "text": [
      "[Parallel(n_jobs=1)]: Done  38 out of  38 | elapsed: 28.8min remaining:    0.0s\n"
     ]
    },
    {
     "name": "stdout",
     "output_type": "stream",
     "text": [
      "[CV]  activation=relu, alpha=0.0001, hidden_layer_sizes=(16, 8), learning_rate=invscaling, score=(train=-0.084, test=-0.087), total=  30.2s\n",
      "[CV] activation=relu, alpha=0.0001, hidden_layer_sizes=(16, 8), learning_rate=invscaling \n"
     ]
    },
    {
     "name": "stderr",
     "output_type": "stream",
     "text": [
      "[Parallel(n_jobs=1)]: Done  39 out of  39 | elapsed: 29.3min remaining:    0.0s\n"
     ]
    },
    {
     "name": "stdout",
     "output_type": "stream",
     "text": [
      "[CV]  activation=relu, alpha=0.0001, hidden_layer_sizes=(16, 8), learning_rate=invscaling, score=(train=-0.088, test=-0.090), total=  22.4s\n",
      "[CV] activation=relu, alpha=0.0001, hidden_layer_sizes=(16, 8), learning_rate=adaptive \n",
      "[CV]  activation=relu, alpha=0.0001, hidden_layer_sizes=(16, 8), learning_rate=adaptive, score=(train=-0.086, test=-0.088), total=  16.5s\n",
      "[CV] activation=relu, alpha=0.0001, hidden_layer_sizes=(16, 8), learning_rate=adaptive \n",
      "[CV]  activation=relu, alpha=0.0001, hidden_layer_sizes=(16, 8), learning_rate=adaptive, score=(train=-0.092, test=-0.090), total=  20.4s\n",
      "[CV] activation=relu, alpha=0.0001, hidden_layer_sizes=(16, 8), learning_rate=adaptive \n",
      "[CV]  activation=relu, alpha=0.0001, hidden_layer_sizes=(16, 8), learning_rate=adaptive, score=(train=-0.086, test=-0.083), total=  17.0s\n",
      "[CV] activation=relu, alpha=0.0001, hidden_layer_sizes=(16, 8), learning_rate=adaptive \n",
      "[CV]  activation=relu, alpha=0.0001, hidden_layer_sizes=(16, 8), learning_rate=adaptive, score=(train=-0.084, test=-0.087), total=  30.0s\n",
      "[CV] activation=relu, alpha=0.0001, hidden_layer_sizes=(16, 8), learning_rate=adaptive \n",
      "[CV]  activation=relu, alpha=0.0001, hidden_layer_sizes=(16, 8), learning_rate=adaptive, score=(train=-0.088, test=-0.090), total=  22.4s\n",
      "[CV] activation=relu, alpha=0.001, hidden_layer_sizes=(64, 16, 8), learning_rate=constant \n",
      "[CV]  activation=relu, alpha=0.001, hidden_layer_sizes=(64, 16, 8), learning_rate=constant, score=(train=-0.085, test=-0.088), total=  38.1s\n",
      "[CV] activation=relu, alpha=0.001, hidden_layer_sizes=(64, 16, 8), learning_rate=constant \n",
      "[CV]  activation=relu, alpha=0.001, hidden_layer_sizes=(64, 16, 8), learning_rate=constant, score=(train=-0.090, test=-0.088), total=  32.5s\n",
      "[CV] activation=relu, alpha=0.001, hidden_layer_sizes=(64, 16, 8), learning_rate=constant \n",
      "[CV]  activation=relu, alpha=0.001, hidden_layer_sizes=(64, 16, 8), learning_rate=constant, score=(train=-0.085, test=-0.083), total=  58.4s\n",
      "[CV] activation=relu, alpha=0.001, hidden_layer_sizes=(64, 16, 8), learning_rate=constant \n",
      "[CV]  activation=relu, alpha=0.001, hidden_layer_sizes=(64, 16, 8), learning_rate=constant, score=(train=-0.087, test=-0.091), total=  41.7s\n",
      "[CV] activation=relu, alpha=0.001, hidden_layer_sizes=(64, 16, 8), learning_rate=constant \n",
      "[CV]  activation=relu, alpha=0.001, hidden_layer_sizes=(64, 16, 8), learning_rate=constant, score=(train=-0.084, test=-0.087), total=  38.9s\n",
      "[CV] activation=relu, alpha=0.001, hidden_layer_sizes=(64, 16, 8), learning_rate=invscaling \n",
      "[CV]  activation=relu, alpha=0.001, hidden_layer_sizes=(64, 16, 8), learning_rate=invscaling, score=(train=-0.085, test=-0.088), total=  39.3s\n",
      "[CV] activation=relu, alpha=0.001, hidden_layer_sizes=(64, 16, 8), learning_rate=invscaling \n",
      "[CV]  activation=relu, alpha=0.001, hidden_layer_sizes=(64, 16, 8), learning_rate=invscaling, score=(train=-0.090, test=-0.088), total=  32.4s\n",
      "[CV] activation=relu, alpha=0.001, hidden_layer_sizes=(64, 16, 8), learning_rate=invscaling \n",
      "[CV]  activation=relu, alpha=0.001, hidden_layer_sizes=(64, 16, 8), learning_rate=invscaling, score=(train=-0.085, test=-0.083), total=  58.0s\n",
      "[CV] activation=relu, alpha=0.001, hidden_layer_sizes=(64, 16, 8), learning_rate=invscaling \n",
      "[CV]  activation=relu, alpha=0.001, hidden_layer_sizes=(64, 16, 8), learning_rate=invscaling, score=(train=-0.087, test=-0.091), total=  41.2s\n",
      "[CV] activation=relu, alpha=0.001, hidden_layer_sizes=(64, 16, 8), learning_rate=invscaling \n",
      "[CV]  activation=relu, alpha=0.001, hidden_layer_sizes=(64, 16, 8), learning_rate=invscaling, score=(train=-0.084, test=-0.087), total=  39.5s\n",
      "[CV] activation=relu, alpha=0.001, hidden_layer_sizes=(64, 16, 8), learning_rate=adaptive \n",
      "[CV]  activation=relu, alpha=0.001, hidden_layer_sizes=(64, 16, 8), learning_rate=adaptive, score=(train=-0.085, test=-0.088), total=  39.0s\n",
      "[CV] activation=relu, alpha=0.001, hidden_layer_sizes=(64, 16, 8), learning_rate=adaptive \n",
      "[CV]  activation=relu, alpha=0.001, hidden_layer_sizes=(64, 16, 8), learning_rate=adaptive, score=(train=-0.090, test=-0.088), total=  32.9s\n",
      "[CV] activation=relu, alpha=0.001, hidden_layer_sizes=(64, 16, 8), learning_rate=adaptive \n",
      "[CV]  activation=relu, alpha=0.001, hidden_layer_sizes=(64, 16, 8), learning_rate=adaptive, score=(train=-0.085, test=-0.083), total=  57.9s\n",
      "[CV] activation=relu, alpha=0.001, hidden_layer_sizes=(64, 16, 8), learning_rate=adaptive \n",
      "[CV]  activation=relu, alpha=0.001, hidden_layer_sizes=(64, 16, 8), learning_rate=adaptive, score=(train=-0.087, test=-0.091), total=  41.1s\n",
      "[CV] activation=relu, alpha=0.001, hidden_layer_sizes=(64, 16, 8), learning_rate=adaptive \n",
      "[CV]  activation=relu, alpha=0.001, hidden_layer_sizes=(64, 16, 8), learning_rate=adaptive, score=(train=-0.084, test=-0.087), total=  39.3s\n",
      "[CV] activation=relu, alpha=0.001, hidden_layer_sizes=(32, 16, 8), learning_rate=constant \n",
      "[CV]  activation=relu, alpha=0.001, hidden_layer_sizes=(32, 16, 8), learning_rate=constant, score=(train=-0.089, test=-0.091), total=  43.5s\n",
      "[CV] activation=relu, alpha=0.001, hidden_layer_sizes=(32, 16, 8), learning_rate=constant \n",
      "[CV]  activation=relu, alpha=0.001, hidden_layer_sizes=(32, 16, 8), learning_rate=constant, score=(train=-0.089, test=-0.087), total=  33.3s\n",
      "[CV] activation=relu, alpha=0.001, hidden_layer_sizes=(32, 16, 8), learning_rate=constant \n",
      "[CV]  activation=relu, alpha=0.001, hidden_layer_sizes=(32, 16, 8), learning_rate=constant, score=(train=-0.085, test=-0.083), total=  40.8s\n",
      "[CV] activation=relu, alpha=0.001, hidden_layer_sizes=(32, 16, 8), learning_rate=constant \n",
      "[CV]  activation=relu, alpha=0.001, hidden_layer_sizes=(32, 16, 8), learning_rate=constant, score=(train=-0.084, test=-0.088), total=  38.3s\n",
      "[CV] activation=relu, alpha=0.001, hidden_layer_sizes=(32, 16, 8), learning_rate=constant \n",
      "[CV]  activation=relu, alpha=0.001, hidden_layer_sizes=(32, 16, 8), learning_rate=constant, score=(train=-0.084, test=-0.087), total=  45.6s\n",
      "[CV] activation=relu, alpha=0.001, hidden_layer_sizes=(32, 16, 8), learning_rate=invscaling \n",
      "[CV]  activation=relu, alpha=0.001, hidden_layer_sizes=(32, 16, 8), learning_rate=invscaling, score=(train=-0.089, test=-0.091), total=  43.1s\n",
      "[CV] activation=relu, alpha=0.001, hidden_layer_sizes=(32, 16, 8), learning_rate=invscaling \n",
      "[CV]  activation=relu, alpha=0.001, hidden_layer_sizes=(32, 16, 8), learning_rate=invscaling, score=(train=-0.089, test=-0.087), total=  33.0s\n",
      "[CV] activation=relu, alpha=0.001, hidden_layer_sizes=(32, 16, 8), learning_rate=invscaling \n",
      "[CV]  activation=relu, alpha=0.001, hidden_layer_sizes=(32, 16, 8), learning_rate=invscaling, score=(train=-0.085, test=-0.083), total=  39.4s\n",
      "[CV] activation=relu, alpha=0.001, hidden_layer_sizes=(32, 16, 8), learning_rate=invscaling \n",
      "[CV]  activation=relu, alpha=0.001, hidden_layer_sizes=(32, 16, 8), learning_rate=invscaling, score=(train=-0.084, test=-0.088), total=  38.3s\n",
      "[CV] activation=relu, alpha=0.001, hidden_layer_sizes=(32, 16, 8), learning_rate=invscaling \n",
      "[CV]  activation=relu, alpha=0.001, hidden_layer_sizes=(32, 16, 8), learning_rate=invscaling, score=(train=-0.084, test=-0.087), total=  48.5s\n",
      "[CV] activation=relu, alpha=0.001, hidden_layer_sizes=(32, 16, 8), learning_rate=adaptive \n",
      "[CV]  activation=relu, alpha=0.001, hidden_layer_sizes=(32, 16, 8), learning_rate=adaptive, score=(train=-0.089, test=-0.091), total=  52.8s\n",
      "[CV] activation=relu, alpha=0.001, hidden_layer_sizes=(32, 16, 8), learning_rate=adaptive \n",
      "[CV]  activation=relu, alpha=0.001, hidden_layer_sizes=(32, 16, 8), learning_rate=adaptive, score=(train=-0.089, test=-0.087), total=  34.8s\n",
      "[CV] activation=relu, alpha=0.001, hidden_layer_sizes=(32, 16, 8), learning_rate=adaptive \n",
      "[CV]  activation=relu, alpha=0.001, hidden_layer_sizes=(32, 16, 8), learning_rate=adaptive, score=(train=-0.085, test=-0.083), total=  46.4s\n",
      "[CV] activation=relu, alpha=0.001, hidden_layer_sizes=(32, 16, 8), learning_rate=adaptive \n",
      "[CV]  activation=relu, alpha=0.001, hidden_layer_sizes=(32, 16, 8), learning_rate=adaptive, score=(train=-0.084, test=-0.088), total=  46.0s\n",
      "[CV] activation=relu, alpha=0.001, hidden_layer_sizes=(32, 16, 8), learning_rate=adaptive \n",
      "[CV]  activation=relu, alpha=0.001, hidden_layer_sizes=(32, 16, 8), learning_rate=adaptive, score=(train=-0.084, test=-0.087), total=  57.5s\n",
      "[CV] activation=relu, alpha=0.001, hidden_layer_sizes=(16, 8), learning_rate=constant \n"
     ]
    },
    {
     "name": "stdout",
     "output_type": "stream",
     "text": [
      "[CV]  activation=relu, alpha=0.001, hidden_layer_sizes=(16, 8), learning_rate=constant, score=(train=-0.085, test=-0.088), total=  18.1s\n",
      "[CV] activation=relu, alpha=0.001, hidden_layer_sizes=(16, 8), learning_rate=constant \n",
      "[CV]  activation=relu, alpha=0.001, hidden_layer_sizes=(16, 8), learning_rate=constant, score=(train=-0.092, test=-0.090), total=  21.8s\n",
      "[CV] activation=relu, alpha=0.001, hidden_layer_sizes=(16, 8), learning_rate=constant \n",
      "[CV]  activation=relu, alpha=0.001, hidden_layer_sizes=(16, 8), learning_rate=constant, score=(train=-0.087, test=-0.085), total=  23.3s\n",
      "[CV] activation=relu, alpha=0.001, hidden_layer_sizes=(16, 8), learning_rate=constant \n",
      "[CV]  activation=relu, alpha=0.001, hidden_layer_sizes=(16, 8), learning_rate=constant, score=(train=-0.086, test=-0.089), total=  19.5s\n",
      "[CV] activation=relu, alpha=0.001, hidden_layer_sizes=(16, 8), learning_rate=constant \n",
      "[CV]  activation=relu, alpha=0.001, hidden_layer_sizes=(16, 8), learning_rate=constant, score=(train=-0.087, test=-0.089), total=  23.4s\n",
      "[CV] activation=relu, alpha=0.001, hidden_layer_sizes=(16, 8), learning_rate=invscaling \n",
      "[CV]  activation=relu, alpha=0.001, hidden_layer_sizes=(16, 8), learning_rate=invscaling, score=(train=-0.085, test=-0.088), total=  17.3s\n",
      "[CV] activation=relu, alpha=0.001, hidden_layer_sizes=(16, 8), learning_rate=invscaling \n",
      "[CV]  activation=relu, alpha=0.001, hidden_layer_sizes=(16, 8), learning_rate=invscaling, score=(train=-0.092, test=-0.090), total=  21.2s\n",
      "[CV] activation=relu, alpha=0.001, hidden_layer_sizes=(16, 8), learning_rate=invscaling \n",
      "[CV]  activation=relu, alpha=0.001, hidden_layer_sizes=(16, 8), learning_rate=invscaling, score=(train=-0.087, test=-0.085), total=  19.5s\n",
      "[CV] activation=relu, alpha=0.001, hidden_layer_sizes=(16, 8), learning_rate=invscaling \n",
      "[CV]  activation=relu, alpha=0.001, hidden_layer_sizes=(16, 8), learning_rate=invscaling, score=(train=-0.086, test=-0.089), total=  19.7s\n",
      "[CV] activation=relu, alpha=0.001, hidden_layer_sizes=(16, 8), learning_rate=invscaling \n",
      "[CV]  activation=relu, alpha=0.001, hidden_layer_sizes=(16, 8), learning_rate=invscaling, score=(train=-0.087, test=-0.089), total=  23.6s\n",
      "[CV] activation=relu, alpha=0.001, hidden_layer_sizes=(16, 8), learning_rate=adaptive \n",
      "[CV]  activation=relu, alpha=0.001, hidden_layer_sizes=(16, 8), learning_rate=adaptive, score=(train=-0.085, test=-0.088), total=  16.8s\n",
      "[CV] activation=relu, alpha=0.001, hidden_layer_sizes=(16, 8), learning_rate=adaptive \n",
      "[CV]  activation=relu, alpha=0.001, hidden_layer_sizes=(16, 8), learning_rate=adaptive, score=(train=-0.092, test=-0.090), total=  20.9s\n",
      "[CV] activation=relu, alpha=0.001, hidden_layer_sizes=(16, 8), learning_rate=adaptive \n",
      "[CV]  activation=relu, alpha=0.001, hidden_layer_sizes=(16, 8), learning_rate=adaptive, score=(train=-0.087, test=-0.085), total=  19.3s\n",
      "[CV] activation=relu, alpha=0.001, hidden_layer_sizes=(16, 8), learning_rate=adaptive \n",
      "[CV]  activation=relu, alpha=0.001, hidden_layer_sizes=(16, 8), learning_rate=adaptive, score=(train=-0.086, test=-0.089), total=  18.1s\n",
      "[CV] activation=relu, alpha=0.001, hidden_layer_sizes=(16, 8), learning_rate=adaptive \n",
      "[CV]  activation=relu, alpha=0.001, hidden_layer_sizes=(16, 8), learning_rate=adaptive, score=(train=-0.087, test=-0.089), total=  23.3s\n"
     ]
    },
    {
     "name": "stderr",
     "output_type": "stream",
     "text": [
      "[Parallel(n_jobs=1)]: Done  90 out of  90 | elapsed: 57.9min finished\n"
     ]
    },
    {
     "data": {
      "text/plain": [
       "GridSearchCV(cv=5, estimator=MLPRegressor(random_state=42),\n",
       "             param_grid=[{'activation': ['relu'], 'alpha': [0.0001, 0.001],\n",
       "                          'hidden_layer_sizes': [(64, 16, 8), (32, 16, 8),\n",
       "                                                 (16, 8)],\n",
       "                          'learning_rate': ['constant', 'invscaling',\n",
       "                                            'adaptive']}],\n",
       "             return_train_score=True, scoring='neg_mean_squared_error',\n",
       "             verbose=40)"
      ]
     },
     "execution_count": 35,
     "metadata": {},
     "output_type": "execute_result"
    }
   ],
   "source": [
    "from sklearn.model_selection import GridSearchCV\n",
    "\n",
    "param_grid = [\n",
    "\n",
    "    {'hidden_layer_sizes': [(64, 16, 8), (32, 16, 8), (16, 8)], 'activation': ['relu', ], 'alpha': [0.0001, 0.001], 'learning_rate': ['constant', 'invscaling', 'adaptive']},\n",
    "\n",
    "  ]\n",
    "\n",
    "nn_reg = MLPRegressor(random_state=42)\n",
    "\n",
    "grid_search = GridSearchCV(nn_reg, param_grid, cv=5,\n",
    "                           scoring='neg_mean_squared_error',\n",
    "                           return_train_score=True,  verbose=40)\n",
    "grid_search.fit(train_data_prepared, train_label)"
   ]
  },
  {
   "cell_type": "code",
   "execution_count": 36,
   "metadata": {},
   "outputs": [
    {
     "data": {
      "text/plain": [
       "{'activation': 'relu',\n",
       " 'alpha': 0.0001,\n",
       " 'hidden_layer_sizes': (32, 16, 8),\n",
       " 'learning_rate': 'constant'}"
      ]
     },
     "execution_count": 36,
     "metadata": {},
     "output_type": "execute_result"
    }
   ],
   "source": [
    "grid_search.best_params_"
   ]
  },
  {
   "cell_type": "code",
   "execution_count": 37,
   "metadata": {},
   "outputs": [
    {
     "data": {
      "text/plain": [
       "MLPRegressor(hidden_layer_sizes=(32, 16, 8), random_state=42)"
      ]
     },
     "execution_count": 37,
     "metadata": {},
     "output_type": "execute_result"
    }
   ],
   "source": [
    "grid_search.best_estimator_"
   ]
  },
  {
   "cell_type": "code",
   "execution_count": 38,
   "metadata": {},
   "outputs": [
    {
     "name": "stdout",
     "output_type": "stream",
     "text": [
      "0.2929153859929396 {'activation': 'relu', 'alpha': 0.0001, 'hidden_layer_sizes': (64, 16, 8), 'learning_rate': 'constant'}\n",
      "0.2929153859929396 {'activation': 'relu', 'alpha': 0.0001, 'hidden_layer_sizes': (64, 16, 8), 'learning_rate': 'invscaling'}\n",
      "0.2929153859929396 {'activation': 'relu', 'alpha': 0.0001, 'hidden_layer_sizes': (64, 16, 8), 'learning_rate': 'adaptive'}\n",
      "0.292749326263384 {'activation': 'relu', 'alpha': 0.0001, 'hidden_layer_sizes': (32, 16, 8), 'learning_rate': 'constant'}\n",
      "0.292749326263384 {'activation': 'relu', 'alpha': 0.0001, 'hidden_layer_sizes': (32, 16, 8), 'learning_rate': 'invscaling'}\n",
      "0.292749326263384 {'activation': 'relu', 'alpha': 0.0001, 'hidden_layer_sizes': (32, 16, 8), 'learning_rate': 'adaptive'}\n",
      "0.2956726817883683 {'activation': 'relu', 'alpha': 0.0001, 'hidden_layer_sizes': (16, 8), 'learning_rate': 'constant'}\n",
      "0.2956726817883683 {'activation': 'relu', 'alpha': 0.0001, 'hidden_layer_sizes': (16, 8), 'learning_rate': 'invscaling'}\n",
      "0.2956726817883683 {'activation': 'relu', 'alpha': 0.0001, 'hidden_layer_sizes': (16, 8), 'learning_rate': 'adaptive'}\n",
      "0.29565737655390506 {'activation': 'relu', 'alpha': 0.001, 'hidden_layer_sizes': (64, 16, 8), 'learning_rate': 'constant'}\n",
      "0.29565737655390506 {'activation': 'relu', 'alpha': 0.001, 'hidden_layer_sizes': (64, 16, 8), 'learning_rate': 'invscaling'}\n",
      "0.29565737655390506 {'activation': 'relu', 'alpha': 0.001, 'hidden_layer_sizes': (64, 16, 8), 'learning_rate': 'adaptive'}\n",
      "0.29512528520124387 {'activation': 'relu', 'alpha': 0.001, 'hidden_layer_sizes': (32, 16, 8), 'learning_rate': 'constant'}\n",
      "0.29512528520124387 {'activation': 'relu', 'alpha': 0.001, 'hidden_layer_sizes': (32, 16, 8), 'learning_rate': 'invscaling'}\n",
      "0.29512528520124387 {'activation': 'relu', 'alpha': 0.001, 'hidden_layer_sizes': (32, 16, 8), 'learning_rate': 'adaptive'}\n",
      "0.2968444009506456 {'activation': 'relu', 'alpha': 0.001, 'hidden_layer_sizes': (16, 8), 'learning_rate': 'constant'}\n",
      "0.2968444009506456 {'activation': 'relu', 'alpha': 0.001, 'hidden_layer_sizes': (16, 8), 'learning_rate': 'invscaling'}\n",
      "0.2968444009506456 {'activation': 'relu', 'alpha': 0.001, 'hidden_layer_sizes': (16, 8), 'learning_rate': 'adaptive'}\n"
     ]
    }
   ],
   "source": [
    "cvres = grid_search.cv_results_\n",
    "for mean_score, params in zip(cvres[\"mean_test_score\"], cvres[\"params\"]):\n",
    "    print(np.sqrt(-mean_score), params)"
   ]
  },
  {
   "cell_type": "code",
   "execution_count": 39,
   "metadata": {},
   "outputs": [
    {
     "data": {
      "text/html": [
       "<div>\n",
       "<style scoped>\n",
       "    .dataframe tbody tr th:only-of-type {\n",
       "        vertical-align: middle;\n",
       "    }\n",
       "\n",
       "    .dataframe tbody tr th {\n",
       "        vertical-align: top;\n",
       "    }\n",
       "\n",
       "    .dataframe thead th {\n",
       "        text-align: right;\n",
       "    }\n",
       "</style>\n",
       "<table border=\"1\" class=\"dataframe\">\n",
       "  <thead>\n",
       "    <tr style=\"text-align: right;\">\n",
       "      <th></th>\n",
       "      <th>mean_fit_time</th>\n",
       "      <th>std_fit_time</th>\n",
       "      <th>mean_score_time</th>\n",
       "      <th>std_score_time</th>\n",
       "      <th>param_activation</th>\n",
       "      <th>param_alpha</th>\n",
       "      <th>param_hidden_layer_sizes</th>\n",
       "      <th>param_learning_rate</th>\n",
       "      <th>params</th>\n",
       "      <th>split0_test_score</th>\n",
       "      <th>...</th>\n",
       "      <th>mean_test_score</th>\n",
       "      <th>std_test_score</th>\n",
       "      <th>rank_test_score</th>\n",
       "      <th>split0_train_score</th>\n",
       "      <th>split1_train_score</th>\n",
       "      <th>split2_train_score</th>\n",
       "      <th>split3_train_score</th>\n",
       "      <th>split4_train_score</th>\n",
       "      <th>mean_train_score</th>\n",
       "      <th>std_train_score</th>\n",
       "    </tr>\n",
       "  </thead>\n",
       "  <tbody>\n",
       "    <tr>\n",
       "      <th>0</th>\n",
       "      <td>65.882688</td>\n",
       "      <td>20.733031</td>\n",
       "      <td>0.080001</td>\n",
       "      <td>0.005898</td>\n",
       "      <td>relu</td>\n",
       "      <td>0.0001</td>\n",
       "      <td>(64, 16, 8)</td>\n",
       "      <td>constant</td>\n",
       "      <td>{'activation': 'relu', 'alpha': 0.0001, 'hidde...</td>\n",
       "      <td>-0.084268</td>\n",
       "      <td>...</td>\n",
       "      <td>-0.085799</td>\n",
       "      <td>0.001390</td>\n",
       "      <td>4</td>\n",
       "      <td>-0.082530</td>\n",
       "      <td>-0.085665</td>\n",
       "      <td>-0.087939</td>\n",
       "      <td>-0.084446</td>\n",
       "      <td>-0.083650</td>\n",
       "      <td>-0.084846</td>\n",
       "      <td>0.001854</td>\n",
       "    </tr>\n",
       "    <tr>\n",
       "      <th>1</th>\n",
       "      <td>60.343365</td>\n",
       "      <td>25.849914</td>\n",
       "      <td>0.071399</td>\n",
       "      <td>0.007419</td>\n",
       "      <td>relu</td>\n",
       "      <td>0.0001</td>\n",
       "      <td>(64, 16, 8)</td>\n",
       "      <td>invscaling</td>\n",
       "      <td>{'activation': 'relu', 'alpha': 0.0001, 'hidde...</td>\n",
       "      <td>-0.084268</td>\n",
       "      <td>...</td>\n",
       "      <td>-0.085799</td>\n",
       "      <td>0.001390</td>\n",
       "      <td>4</td>\n",
       "      <td>-0.082530</td>\n",
       "      <td>-0.085665</td>\n",
       "      <td>-0.087939</td>\n",
       "      <td>-0.084446</td>\n",
       "      <td>-0.083650</td>\n",
       "      <td>-0.084846</td>\n",
       "      <td>0.001854</td>\n",
       "    </tr>\n",
       "    <tr>\n",
       "      <th>2</th>\n",
       "      <td>57.787795</td>\n",
       "      <td>20.971851</td>\n",
       "      <td>0.072200</td>\n",
       "      <td>0.013877</td>\n",
       "      <td>relu</td>\n",
       "      <td>0.0001</td>\n",
       "      <td>(64, 16, 8)</td>\n",
       "      <td>adaptive</td>\n",
       "      <td>{'activation': 'relu', 'alpha': 0.0001, 'hidde...</td>\n",
       "      <td>-0.084268</td>\n",
       "      <td>...</td>\n",
       "      <td>-0.085799</td>\n",
       "      <td>0.001390</td>\n",
       "      <td>4</td>\n",
       "      <td>-0.082530</td>\n",
       "      <td>-0.085665</td>\n",
       "      <td>-0.087939</td>\n",
       "      <td>-0.084446</td>\n",
       "      <td>-0.083650</td>\n",
       "      <td>-0.084846</td>\n",
       "      <td>0.001854</td>\n",
       "    </tr>\n",
       "    <tr>\n",
       "      <th>3</th>\n",
       "      <td>42.559196</td>\n",
       "      <td>6.500896</td>\n",
       "      <td>0.041200</td>\n",
       "      <td>0.004354</td>\n",
       "      <td>relu</td>\n",
       "      <td>0.0001</td>\n",
       "      <td>(32, 16, 8)</td>\n",
       "      <td>constant</td>\n",
       "      <td>{'activation': 'relu', 'alpha': 0.0001, 'hidde...</td>\n",
       "      <td>-0.085816</td>\n",
       "      <td>...</td>\n",
       "      <td>-0.085702</td>\n",
       "      <td>0.002215</td>\n",
       "      <td>1</td>\n",
       "      <td>-0.083957</td>\n",
       "      <td>-0.086119</td>\n",
       "      <td>-0.084172</td>\n",
       "      <td>-0.084867</td>\n",
       "      <td>-0.084504</td>\n",
       "      <td>-0.084724</td>\n",
       "      <td>0.000763</td>\n",
       "    </tr>\n",
       "    <tr>\n",
       "      <th>4</th>\n",
       "      <td>42.264340</td>\n",
       "      <td>6.240603</td>\n",
       "      <td>0.039001</td>\n",
       "      <td>0.005762</td>\n",
       "      <td>relu</td>\n",
       "      <td>0.0001</td>\n",
       "      <td>(32, 16, 8)</td>\n",
       "      <td>invscaling</td>\n",
       "      <td>{'activation': 'relu', 'alpha': 0.0001, 'hidde...</td>\n",
       "      <td>-0.085816</td>\n",
       "      <td>...</td>\n",
       "      <td>-0.085702</td>\n",
       "      <td>0.002215</td>\n",
       "      <td>1</td>\n",
       "      <td>-0.083957</td>\n",
       "      <td>-0.086119</td>\n",
       "      <td>-0.084172</td>\n",
       "      <td>-0.084867</td>\n",
       "      <td>-0.084504</td>\n",
       "      <td>-0.084724</td>\n",
       "      <td>0.000763</td>\n",
       "    </tr>\n",
       "    <tr>\n",
       "      <th>5</th>\n",
       "      <td>42.678147</td>\n",
       "      <td>6.390150</td>\n",
       "      <td>0.039399</td>\n",
       "      <td>0.005276</td>\n",
       "      <td>relu</td>\n",
       "      <td>0.0001</td>\n",
       "      <td>(32, 16, 8)</td>\n",
       "      <td>adaptive</td>\n",
       "      <td>{'activation': 'relu', 'alpha': 0.0001, 'hidde...</td>\n",
       "      <td>-0.085816</td>\n",
       "      <td>...</td>\n",
       "      <td>-0.085702</td>\n",
       "      <td>0.002215</td>\n",
       "      <td>1</td>\n",
       "      <td>-0.083957</td>\n",
       "      <td>-0.086119</td>\n",
       "      <td>-0.084172</td>\n",
       "      <td>-0.084867</td>\n",
       "      <td>-0.084504</td>\n",
       "      <td>-0.084724</td>\n",
       "      <td>0.000763</td>\n",
       "    </tr>\n",
       "    <tr>\n",
       "      <th>6</th>\n",
       "      <td>21.396560</td>\n",
       "      <td>4.853084</td>\n",
       "      <td>0.014587</td>\n",
       "      <td>0.002728</td>\n",
       "      <td>relu</td>\n",
       "      <td>0.0001</td>\n",
       "      <td>(16, 8)</td>\n",
       "      <td>constant</td>\n",
       "      <td>{'activation': 'relu', 'alpha': 0.0001, 'hidde...</td>\n",
       "      <td>-0.087710</td>\n",
       "      <td>...</td>\n",
       "      <td>-0.087422</td>\n",
       "      <td>0.002548</td>\n",
       "      <td>13</td>\n",
       "      <td>-0.085681</td>\n",
       "      <td>-0.092438</td>\n",
       "      <td>-0.085800</td>\n",
       "      <td>-0.083527</td>\n",
       "      <td>-0.087631</td>\n",
       "      <td>-0.087015</td>\n",
       "      <td>0.003007</td>\n",
       "    </tr>\n",
       "    <tr>\n",
       "      <th>7</th>\n",
       "      <td>21.565952</td>\n",
       "      <td>4.756479</td>\n",
       "      <td>0.016593</td>\n",
       "      <td>0.005648</td>\n",
       "      <td>relu</td>\n",
       "      <td>0.0001</td>\n",
       "      <td>(16, 8)</td>\n",
       "      <td>invscaling</td>\n",
       "      <td>{'activation': 'relu', 'alpha': 0.0001, 'hidde...</td>\n",
       "      <td>-0.087710</td>\n",
       "      <td>...</td>\n",
       "      <td>-0.087422</td>\n",
       "      <td>0.002548</td>\n",
       "      <td>13</td>\n",
       "      <td>-0.085681</td>\n",
       "      <td>-0.092438</td>\n",
       "      <td>-0.085800</td>\n",
       "      <td>-0.083527</td>\n",
       "      <td>-0.087631</td>\n",
       "      <td>-0.087015</td>\n",
       "      <td>0.003007</td>\n",
       "    </tr>\n",
       "    <tr>\n",
       "      <th>8</th>\n",
       "      <td>21.240439</td>\n",
       "      <td>4.894282</td>\n",
       "      <td>0.014586</td>\n",
       "      <td>0.002235</td>\n",
       "      <td>relu</td>\n",
       "      <td>0.0001</td>\n",
       "      <td>(16, 8)</td>\n",
       "      <td>adaptive</td>\n",
       "      <td>{'activation': 'relu', 'alpha': 0.0001, 'hidde...</td>\n",
       "      <td>-0.087710</td>\n",
       "      <td>...</td>\n",
       "      <td>-0.087422</td>\n",
       "      <td>0.002548</td>\n",
       "      <td>13</td>\n",
       "      <td>-0.085681</td>\n",
       "      <td>-0.092438</td>\n",
       "      <td>-0.085800</td>\n",
       "      <td>-0.083527</td>\n",
       "      <td>-0.087631</td>\n",
       "      <td>-0.087015</td>\n",
       "      <td>0.003007</td>\n",
       "    </tr>\n",
       "    <tr>\n",
       "      <th>9</th>\n",
       "      <td>41.874657</td>\n",
       "      <td>8.779088</td>\n",
       "      <td>0.070999</td>\n",
       "      <td>0.002000</td>\n",
       "      <td>relu</td>\n",
       "      <td>0.001</td>\n",
       "      <td>(64, 16, 8)</td>\n",
       "      <td>constant</td>\n",
       "      <td>{'activation': 'relu', 'alpha': 0.001, 'hidden...</td>\n",
       "      <td>-0.088140</td>\n",
       "      <td>...</td>\n",
       "      <td>-0.087413</td>\n",
       "      <td>0.002767</td>\n",
       "      <td>10</td>\n",
       "      <td>-0.085491</td>\n",
       "      <td>-0.090219</td>\n",
       "      <td>-0.085148</td>\n",
       "      <td>-0.087355</td>\n",
       "      <td>-0.084193</td>\n",
       "      <td>-0.086481</td>\n",
       "      <td>0.002132</td>\n",
       "    </tr>\n",
       "    <tr>\n",
       "      <th>10</th>\n",
       "      <td>42.016343</td>\n",
       "      <td>8.526898</td>\n",
       "      <td>0.072799</td>\n",
       "      <td>0.006882</td>\n",
       "      <td>relu</td>\n",
       "      <td>0.001</td>\n",
       "      <td>(64, 16, 8)</td>\n",
       "      <td>invscaling</td>\n",
       "      <td>{'activation': 'relu', 'alpha': 0.001, 'hidden...</td>\n",
       "      <td>-0.088140</td>\n",
       "      <td>...</td>\n",
       "      <td>-0.087413</td>\n",
       "      <td>0.002767</td>\n",
       "      <td>10</td>\n",
       "      <td>-0.085491</td>\n",
       "      <td>-0.090219</td>\n",
       "      <td>-0.085148</td>\n",
       "      <td>-0.087355</td>\n",
       "      <td>-0.084193</td>\n",
       "      <td>-0.086481</td>\n",
       "      <td>0.002132</td>\n",
       "    </tr>\n",
       "    <tr>\n",
       "      <th>11</th>\n",
       "      <td>41.982142</td>\n",
       "      <td>8.416898</td>\n",
       "      <td>0.066002</td>\n",
       "      <td>0.005692</td>\n",
       "      <td>relu</td>\n",
       "      <td>0.001</td>\n",
       "      <td>(64, 16, 8)</td>\n",
       "      <td>adaptive</td>\n",
       "      <td>{'activation': 'relu', 'alpha': 0.001, 'hidden...</td>\n",
       "      <td>-0.088140</td>\n",
       "      <td>...</td>\n",
       "      <td>-0.087413</td>\n",
       "      <td>0.002767</td>\n",
       "      <td>10</td>\n",
       "      <td>-0.085491</td>\n",
       "      <td>-0.090219</td>\n",
       "      <td>-0.085148</td>\n",
       "      <td>-0.087355</td>\n",
       "      <td>-0.084193</td>\n",
       "      <td>-0.086481</td>\n",
       "      <td>0.002132</td>\n",
       "    </tr>\n",
       "    <tr>\n",
       "      <th>12</th>\n",
       "      <td>40.242205</td>\n",
       "      <td>4.286501</td>\n",
       "      <td>0.038000</td>\n",
       "      <td>0.005797</td>\n",
       "      <td>relu</td>\n",
       "      <td>0.001</td>\n",
       "      <td>(32, 16, 8)</td>\n",
       "      <td>constant</td>\n",
       "      <td>{'activation': 'relu', 'alpha': 0.001, 'hidden...</td>\n",
       "      <td>-0.090767</td>\n",
       "      <td>...</td>\n",
       "      <td>-0.087099</td>\n",
       "      <td>0.002534</td>\n",
       "      <td>7</td>\n",
       "      <td>-0.088879</td>\n",
       "      <td>-0.089326</td>\n",
       "      <td>-0.084697</td>\n",
       "      <td>-0.084185</td>\n",
       "      <td>-0.083775</td>\n",
       "      <td>-0.086173</td>\n",
       "      <td>0.002414</td>\n",
       "    </tr>\n",
       "    <tr>\n",
       "      <th>13</th>\n",
       "      <td>40.416217</td>\n",
       "      <td>5.132918</td>\n",
       "      <td>0.045002</td>\n",
       "      <td>0.005402</td>\n",
       "      <td>relu</td>\n",
       "      <td>0.001</td>\n",
       "      <td>(32, 16, 8)</td>\n",
       "      <td>invscaling</td>\n",
       "      <td>{'activation': 'relu', 'alpha': 0.001, 'hidden...</td>\n",
       "      <td>-0.090767</td>\n",
       "      <td>...</td>\n",
       "      <td>-0.087099</td>\n",
       "      <td>0.002534</td>\n",
       "      <td>7</td>\n",
       "      <td>-0.088879</td>\n",
       "      <td>-0.089326</td>\n",
       "      <td>-0.084697</td>\n",
       "      <td>-0.084185</td>\n",
       "      <td>-0.083775</td>\n",
       "      <td>-0.086173</td>\n",
       "      <td>0.002414</td>\n",
       "    </tr>\n",
       "    <tr>\n",
       "      <th>14</th>\n",
       "      <td>47.451739</td>\n",
       "      <td>7.656999</td>\n",
       "      <td>0.050001</td>\n",
       "      <td>0.006574</td>\n",
       "      <td>relu</td>\n",
       "      <td>0.001</td>\n",
       "      <td>(32, 16, 8)</td>\n",
       "      <td>adaptive</td>\n",
       "      <td>{'activation': 'relu', 'alpha': 0.001, 'hidden...</td>\n",
       "      <td>-0.090767</td>\n",
       "      <td>...</td>\n",
       "      <td>-0.087099</td>\n",
       "      <td>0.002534</td>\n",
       "      <td>7</td>\n",
       "      <td>-0.088879</td>\n",
       "      <td>-0.089326</td>\n",
       "      <td>-0.084697</td>\n",
       "      <td>-0.084185</td>\n",
       "      <td>-0.083775</td>\n",
       "      <td>-0.086173</td>\n",
       "      <td>0.002414</td>\n",
       "    </tr>\n",
       "    <tr>\n",
       "      <th>15</th>\n",
       "      <td>21.192234</td>\n",
       "      <td>2.120879</td>\n",
       "      <td>0.017386</td>\n",
       "      <td>0.002167</td>\n",
       "      <td>relu</td>\n",
       "      <td>0.001</td>\n",
       "      <td>(16, 8)</td>\n",
       "      <td>constant</td>\n",
       "      <td>{'activation': 'relu', 'alpha': 0.001, 'hidden...</td>\n",
       "      <td>-0.087550</td>\n",
       "      <td>...</td>\n",
       "      <td>-0.088117</td>\n",
       "      <td>0.001939</td>\n",
       "      <td>16</td>\n",
       "      <td>-0.085410</td>\n",
       "      <td>-0.092486</td>\n",
       "      <td>-0.087230</td>\n",
       "      <td>-0.085548</td>\n",
       "      <td>-0.087403</td>\n",
       "      <td>-0.087615</td>\n",
       "      <td>0.002571</td>\n",
       "    </tr>\n",
       "    <tr>\n",
       "      <th>16</th>\n",
       "      <td>20.233712</td>\n",
       "      <td>2.083055</td>\n",
       "      <td>0.016394</td>\n",
       "      <td>0.004229</td>\n",
       "      <td>relu</td>\n",
       "      <td>0.001</td>\n",
       "      <td>(16, 8)</td>\n",
       "      <td>invscaling</td>\n",
       "      <td>{'activation': 'relu', 'alpha': 0.001, 'hidden...</td>\n",
       "      <td>-0.087550</td>\n",
       "      <td>...</td>\n",
       "      <td>-0.088117</td>\n",
       "      <td>0.001939</td>\n",
       "      <td>16</td>\n",
       "      <td>-0.085410</td>\n",
       "      <td>-0.092486</td>\n",
       "      <td>-0.087230</td>\n",
       "      <td>-0.085548</td>\n",
       "      <td>-0.087403</td>\n",
       "      <td>-0.087615</td>\n",
       "      <td>0.002571</td>\n",
       "    </tr>\n",
       "    <tr>\n",
       "      <th>17</th>\n",
       "      <td>19.666171</td>\n",
       "      <td>2.251166</td>\n",
       "      <td>0.018381</td>\n",
       "      <td>0.005673</td>\n",
       "      <td>relu</td>\n",
       "      <td>0.001</td>\n",
       "      <td>(16, 8)</td>\n",
       "      <td>adaptive</td>\n",
       "      <td>{'activation': 'relu', 'alpha': 0.001, 'hidden...</td>\n",
       "      <td>-0.087550</td>\n",
       "      <td>...</td>\n",
       "      <td>-0.088117</td>\n",
       "      <td>0.001939</td>\n",
       "      <td>16</td>\n",
       "      <td>-0.085410</td>\n",
       "      <td>-0.092486</td>\n",
       "      <td>-0.087230</td>\n",
       "      <td>-0.085548</td>\n",
       "      <td>-0.087403</td>\n",
       "      <td>-0.087615</td>\n",
       "      <td>0.002571</td>\n",
       "    </tr>\n",
       "  </tbody>\n",
       "</table>\n",
       "<p>18 rows × 24 columns</p>\n",
       "</div>"
      ],
      "text/plain": [
       "    mean_fit_time  std_fit_time  mean_score_time  std_score_time  \\\n",
       "0       65.882688     20.733031         0.080001        0.005898   \n",
       "1       60.343365     25.849914         0.071399        0.007419   \n",
       "2       57.787795     20.971851         0.072200        0.013877   \n",
       "3       42.559196      6.500896         0.041200        0.004354   \n",
       "4       42.264340      6.240603         0.039001        0.005762   \n",
       "5       42.678147      6.390150         0.039399        0.005276   \n",
       "6       21.396560      4.853084         0.014587        0.002728   \n",
       "7       21.565952      4.756479         0.016593        0.005648   \n",
       "8       21.240439      4.894282         0.014586        0.002235   \n",
       "9       41.874657      8.779088         0.070999        0.002000   \n",
       "10      42.016343      8.526898         0.072799        0.006882   \n",
       "11      41.982142      8.416898         0.066002        0.005692   \n",
       "12      40.242205      4.286501         0.038000        0.005797   \n",
       "13      40.416217      5.132918         0.045002        0.005402   \n",
       "14      47.451739      7.656999         0.050001        0.006574   \n",
       "15      21.192234      2.120879         0.017386        0.002167   \n",
       "16      20.233712      2.083055         0.016394        0.004229   \n",
       "17      19.666171      2.251166         0.018381        0.005673   \n",
       "\n",
       "   param_activation param_alpha param_hidden_layer_sizes param_learning_rate  \\\n",
       "0              relu      0.0001              (64, 16, 8)            constant   \n",
       "1              relu      0.0001              (64, 16, 8)          invscaling   \n",
       "2              relu      0.0001              (64, 16, 8)            adaptive   \n",
       "3              relu      0.0001              (32, 16, 8)            constant   \n",
       "4              relu      0.0001              (32, 16, 8)          invscaling   \n",
       "5              relu      0.0001              (32, 16, 8)            adaptive   \n",
       "6              relu      0.0001                  (16, 8)            constant   \n",
       "7              relu      0.0001                  (16, 8)          invscaling   \n",
       "8              relu      0.0001                  (16, 8)            adaptive   \n",
       "9              relu       0.001              (64, 16, 8)            constant   \n",
       "10             relu       0.001              (64, 16, 8)          invscaling   \n",
       "11             relu       0.001              (64, 16, 8)            adaptive   \n",
       "12             relu       0.001              (32, 16, 8)            constant   \n",
       "13             relu       0.001              (32, 16, 8)          invscaling   \n",
       "14             relu       0.001              (32, 16, 8)            adaptive   \n",
       "15             relu       0.001                  (16, 8)            constant   \n",
       "16             relu       0.001                  (16, 8)          invscaling   \n",
       "17             relu       0.001                  (16, 8)            adaptive   \n",
       "\n",
       "                                               params  split0_test_score  ...  \\\n",
       "0   {'activation': 'relu', 'alpha': 0.0001, 'hidde...          -0.084268  ...   \n",
       "1   {'activation': 'relu', 'alpha': 0.0001, 'hidde...          -0.084268  ...   \n",
       "2   {'activation': 'relu', 'alpha': 0.0001, 'hidde...          -0.084268  ...   \n",
       "3   {'activation': 'relu', 'alpha': 0.0001, 'hidde...          -0.085816  ...   \n",
       "4   {'activation': 'relu', 'alpha': 0.0001, 'hidde...          -0.085816  ...   \n",
       "5   {'activation': 'relu', 'alpha': 0.0001, 'hidde...          -0.085816  ...   \n",
       "6   {'activation': 'relu', 'alpha': 0.0001, 'hidde...          -0.087710  ...   \n",
       "7   {'activation': 'relu', 'alpha': 0.0001, 'hidde...          -0.087710  ...   \n",
       "8   {'activation': 'relu', 'alpha': 0.0001, 'hidde...          -0.087710  ...   \n",
       "9   {'activation': 'relu', 'alpha': 0.001, 'hidden...          -0.088140  ...   \n",
       "10  {'activation': 'relu', 'alpha': 0.001, 'hidden...          -0.088140  ...   \n",
       "11  {'activation': 'relu', 'alpha': 0.001, 'hidden...          -0.088140  ...   \n",
       "12  {'activation': 'relu', 'alpha': 0.001, 'hidden...          -0.090767  ...   \n",
       "13  {'activation': 'relu', 'alpha': 0.001, 'hidden...          -0.090767  ...   \n",
       "14  {'activation': 'relu', 'alpha': 0.001, 'hidden...          -0.090767  ...   \n",
       "15  {'activation': 'relu', 'alpha': 0.001, 'hidden...          -0.087550  ...   \n",
       "16  {'activation': 'relu', 'alpha': 0.001, 'hidden...          -0.087550  ...   \n",
       "17  {'activation': 'relu', 'alpha': 0.001, 'hidden...          -0.087550  ...   \n",
       "\n",
       "    mean_test_score  std_test_score  rank_test_score  split0_train_score  \\\n",
       "0         -0.085799        0.001390                4           -0.082530   \n",
       "1         -0.085799        0.001390                4           -0.082530   \n",
       "2         -0.085799        0.001390                4           -0.082530   \n",
       "3         -0.085702        0.002215                1           -0.083957   \n",
       "4         -0.085702        0.002215                1           -0.083957   \n",
       "5         -0.085702        0.002215                1           -0.083957   \n",
       "6         -0.087422        0.002548               13           -0.085681   \n",
       "7         -0.087422        0.002548               13           -0.085681   \n",
       "8         -0.087422        0.002548               13           -0.085681   \n",
       "9         -0.087413        0.002767               10           -0.085491   \n",
       "10        -0.087413        0.002767               10           -0.085491   \n",
       "11        -0.087413        0.002767               10           -0.085491   \n",
       "12        -0.087099        0.002534                7           -0.088879   \n",
       "13        -0.087099        0.002534                7           -0.088879   \n",
       "14        -0.087099        0.002534                7           -0.088879   \n",
       "15        -0.088117        0.001939               16           -0.085410   \n",
       "16        -0.088117        0.001939               16           -0.085410   \n",
       "17        -0.088117        0.001939               16           -0.085410   \n",
       "\n",
       "    split1_train_score  split2_train_score  split3_train_score  \\\n",
       "0            -0.085665           -0.087939           -0.084446   \n",
       "1            -0.085665           -0.087939           -0.084446   \n",
       "2            -0.085665           -0.087939           -0.084446   \n",
       "3            -0.086119           -0.084172           -0.084867   \n",
       "4            -0.086119           -0.084172           -0.084867   \n",
       "5            -0.086119           -0.084172           -0.084867   \n",
       "6            -0.092438           -0.085800           -0.083527   \n",
       "7            -0.092438           -0.085800           -0.083527   \n",
       "8            -0.092438           -0.085800           -0.083527   \n",
       "9            -0.090219           -0.085148           -0.087355   \n",
       "10           -0.090219           -0.085148           -0.087355   \n",
       "11           -0.090219           -0.085148           -0.087355   \n",
       "12           -0.089326           -0.084697           -0.084185   \n",
       "13           -0.089326           -0.084697           -0.084185   \n",
       "14           -0.089326           -0.084697           -0.084185   \n",
       "15           -0.092486           -0.087230           -0.085548   \n",
       "16           -0.092486           -0.087230           -0.085548   \n",
       "17           -0.092486           -0.087230           -0.085548   \n",
       "\n",
       "    split4_train_score  mean_train_score  std_train_score  \n",
       "0            -0.083650         -0.084846         0.001854  \n",
       "1            -0.083650         -0.084846         0.001854  \n",
       "2            -0.083650         -0.084846         0.001854  \n",
       "3            -0.084504         -0.084724         0.000763  \n",
       "4            -0.084504         -0.084724         0.000763  \n",
       "5            -0.084504         -0.084724         0.000763  \n",
       "6            -0.087631         -0.087015         0.003007  \n",
       "7            -0.087631         -0.087015         0.003007  \n",
       "8            -0.087631         -0.087015         0.003007  \n",
       "9            -0.084193         -0.086481         0.002132  \n",
       "10           -0.084193         -0.086481         0.002132  \n",
       "11           -0.084193         -0.086481         0.002132  \n",
       "12           -0.083775         -0.086173         0.002414  \n",
       "13           -0.083775         -0.086173         0.002414  \n",
       "14           -0.083775         -0.086173         0.002414  \n",
       "15           -0.087403         -0.087615         0.002571  \n",
       "16           -0.087403         -0.087615         0.002571  \n",
       "17           -0.087403         -0.087615         0.002571  \n",
       "\n",
       "[18 rows x 24 columns]"
      ]
     },
     "execution_count": 39,
     "metadata": {},
     "output_type": "execute_result"
    }
   ],
   "source": [
    "pd.DataFrame(grid_search.cv_results_)"
   ]
  },
  {
   "cell_type": "markdown",
   "metadata": {},
   "source": [
    "## Evaluate on the Test Set"
   ]
  },
  {
   "cell_type": "code",
   "execution_count": 59,
   "metadata": {},
   "outputs": [
    {
     "ename": "NameError",
     "evalue": "name 'final_model' is not defined",
     "output_type": "error",
     "traceback": [
      "\u001b[1;31m---------------------------------------------------------------------------\u001b[0m",
      "\u001b[1;31mNameError\u001b[0m                                 Traceback (most recent call last)",
      "\u001b[1;32m<ipython-input-59-95cd1c7e2c75>\u001b[0m in \u001b[0;36m<module>\u001b[1;34m\u001b[0m\n\u001b[0;32m      4\u001b[0m \u001b[0mtest_label\u001b[0m \u001b[1;33m=\u001b[0m \u001b[0mtest_set\u001b[0m\u001b[1;33m[\u001b[0m\u001b[1;34m\"ECOND\"\u001b[0m\u001b[1;33m]\u001b[0m\u001b[1;33m.\u001b[0m\u001b[0mcopy\u001b[0m\u001b[1;33m(\u001b[0m\u001b[1;33m)\u001b[0m\u001b[1;33m\u001b[0m\u001b[1;33m\u001b[0m\u001b[0m\n\u001b[0;32m      5\u001b[0m \u001b[0mtest_data_prepared\u001b[0m \u001b[1;33m=\u001b[0m \u001b[0mpreprocessing_pipeline\u001b[0m\u001b[1;33m.\u001b[0m\u001b[0mtransform\u001b[0m\u001b[1;33m(\u001b[0m\u001b[0mtest_data\u001b[0m\u001b[1;33m)\u001b[0m\u001b[1;33m\u001b[0m\u001b[1;33m\u001b[0m\u001b[0m\n\u001b[1;32m----> 6\u001b[1;33m \u001b[0mtest_predictions\u001b[0m \u001b[1;33m=\u001b[0m \u001b[0mfinal_model\u001b[0m\u001b[1;33m.\u001b[0m\u001b[0mpredict\u001b[0m\u001b[1;33m(\u001b[0m\u001b[0mtest_data_prepared\u001b[0m\u001b[1;33m)\u001b[0m\u001b[1;33m\u001b[0m\u001b[1;33m\u001b[0m\u001b[0m\n\u001b[0m\u001b[0;32m      7\u001b[0m \u001b[0mfinal_mse\u001b[0m \u001b[1;33m=\u001b[0m \u001b[0mmean_squared_error\u001b[0m\u001b[1;33m(\u001b[0m\u001b[0mtest_label\u001b[0m\u001b[1;33m,\u001b[0m \u001b[0mtest_predictions\u001b[0m\u001b[1;33m)\u001b[0m\u001b[1;33m\u001b[0m\u001b[1;33m\u001b[0m\u001b[0m\n\u001b[0;32m      8\u001b[0m \u001b[0mfinal_rmse\u001b[0m \u001b[1;33m=\u001b[0m \u001b[0mnp\u001b[0m\u001b[1;33m.\u001b[0m\u001b[0msqrt\u001b[0m\u001b[1;33m(\u001b[0m\u001b[0mfinal_mse\u001b[0m\u001b[1;33m)\u001b[0m\u001b[1;33m\u001b[0m\u001b[1;33m\u001b[0m\u001b[0m\n",
      "\u001b[1;31mNameError\u001b[0m: name 'final_model' is not defined"
     ]
    }
   ],
   "source": [
    "final_model = grid_search.best_estimator_\n",
    "\n",
    "test_data = test_set.drop(\"ECOND\", axis=1) # drop labels for training set\n",
    "test_label = test_set[\"ECOND\"].copy()\n",
    "test_data_prepared = preprocessing_pipeline.transform(test_data)\n",
    "test_predictions = final_model.predict(test_data_prepared)\n",
    "final_mse = mean_squared_error(test_label, test_predictions)\n",
    "final_rmse = np.sqrt(final_mse)"
   ]
  },
  {
   "cell_type": "code",
   "execution_count": 43,
   "metadata": {},
   "outputs": [
    {
     "data": {
      "text/plain": [
       "0.2932111471074701"
      ]
     },
     "execution_count": 43,
     "metadata": {},
     "output_type": "execute_result"
    }
   ],
   "source": [
    "final_rmse"
   ]
  },
  {
   "cell_type": "markdown",
   "metadata": {},
   "source": [
    "## A full pipeline with both preparation and prediction"
   ]
  },
  {
   "cell_type": "code",
   "execution_count": 60,
   "metadata": {},
   "outputs": [
    {
     "data": {
      "text/plain": [
       "array([-12.99991035, -12.70989387,  -9.41314198,  -9.50880335,\n",
       "       -13.33786247])"
      ]
     },
     "execution_count": 60,
     "metadata": {},
     "output_type": "execute_result"
    }
   ],
   "source": [
    "full_pipeline_with_predictor = Pipeline([\n",
    "        (\"preparation\", preprocessing_pipeline),\n",
    "        (\"neuralnet\", MLPRegressor(hidden_layer_sizes=(32, 16, 8))),\n",
    "    ])\n",
    "\n",
    "full_pipeline_with_predictor.fit(train_data, train_label)\n",
    "full_pipeline_with_predictor.predict(some_data)"
   ]
  },
  {
   "cell_type": "markdown",
   "metadata": {},
   "source": [
    "## Model persistence using joblib"
   ]
  },
  {
   "cell_type": "code",
   "execution_count": 61,
   "metadata": {},
   "outputs": [],
   "source": [
    "my_model = full_pipeline_with_predictor"
   ]
  },
  {
   "cell_type": "code",
   "execution_count": 62,
   "metadata": {},
   "outputs": [],
   "source": [
    "import joblib\n",
    "joblib.dump(my_model, \"econd_surrogate.pkl\") # DIFF\n",
    "#...\n",
    "my_model_loaded = joblib.load(\"econd_surrogate.pkl\") # DIFF"
   ]
  },
  {
   "cell_type": "code",
   "execution_count": 63,
   "metadata": {},
   "outputs": [
    {
     "data": {
      "text/plain": [
       "array([-12.99991035])"
      ]
     },
     "execution_count": 63,
     "metadata": {},
     "output_type": "execute_result"
    }
   ],
   "source": [
    "my_model_loaded.predict(some_data.iloc[:1])"
   ]
  },
  {
   "cell_type": "code",
   "execution_count": null,
   "metadata": {},
   "outputs": [],
   "source": []
  }
 ],
 "metadata": {
  "kernelspec": {
   "display_name": "Python 3",
   "language": "python",
   "name": "python3"
  },
  "language_info": {
   "codemirror_mode": {
    "name": "ipython",
    "version": 3
   },
   "file_extension": ".py",
   "mimetype": "text/x-python",
   "name": "python",
   "nbconvert_exporter": "python",
   "pygments_lexer": "ipython3",
   "version": "3.8.5"
  }
 },
 "nbformat": 4,
 "nbformat_minor": 4
}
